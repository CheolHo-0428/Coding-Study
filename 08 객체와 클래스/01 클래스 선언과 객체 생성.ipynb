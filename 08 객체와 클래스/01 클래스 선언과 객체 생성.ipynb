{
 "cells": [
  {
   "cell_type": "markdown",
   "metadata": {},
   "source": [
    "### 객체란?"
   ]
  },
  {
   "cell_type": "markdown",
   "metadata": {},
   "source": [
    "### 클래스 선언"
   ]
  },
  {
   "cell_type": "markdown",
   "metadata": {},
   "source": [
    "### 객체 생성 및 활용"
   ]
  },
  {
   "cell_type": "code",
   "execution_count": 1,
   "metadata": {},
   "outputs": [],
   "source": [
    "class Bicycle() : # 클래스 선언\n",
    "    pass"
   ]
  },
  {
   "cell_type": "code",
   "execution_count": 2,
   "metadata": {},
   "outputs": [],
   "source": [
    "my_bicycle = Bicycle() # 클래스의 인스턴스 생성"
   ]
  },
  {
   "cell_type": "code",
   "execution_count": 4,
   "metadata": {},
   "outputs": [
    {
     "data": {
      "text/plain": [
       "<__main__.Bicycle at 0x18d4db188e0>"
      ]
     },
     "execution_count": 4,
     "metadata": {},
     "output_type": "execute_result"
    }
   ],
   "source": [
    "my_bicycle"
   ]
  },
  {
   "cell_type": "code",
   "execution_count": 5,
   "metadata": {},
   "outputs": [],
   "source": [
    "my_bicycle.wheel_size = 26\n",
    "my_bicycle.color = 'black'"
   ]
  },
  {
   "cell_type": "code",
   "execution_count": 7,
   "metadata": {},
   "outputs": [
    {
     "name": "stdout",
     "output_type": "stream",
     "text": [
      "바퀴 크기: 26\n",
      "색상: black\n"
     ]
    }
   ],
   "source": [
    "print('바퀴 크기:', my_bicycle.wheel_size) # 객체의 속성 출력\n",
    "print('색상:', my_bicycle.color)"
   ]
  },
  {
   "cell_type": "code",
   "execution_count": 4,
   "metadata": {},
   "outputs": [],
   "source": [
    "class Bicycle() :\n",
    "    \n",
    "    def move(self, speed):\n",
    "        print(f'자전거: 시속 {speed}킬로미터로 전진')\n",
    "    \n",
    "    \n",
    "    def turn(self, direction):\n",
    "        print(f'자전거: {direction}회전')\n",
    "        \n",
    "    \n",
    "    def stop(self):\n",
    "        print(f'자전거({self.wheel_size}, {self.color}): 정지')"
   ]
  },
  {
   "cell_type": "code",
   "execution_count": 6,
   "metadata": {},
   "outputs": [
    {
     "name": "stdout",
     "output_type": "stream",
     "text": [
      "자전거: 시속 20킬로미터로 전진\n",
      "자전거: 좌회전\n",
      "자전거(27, red): 정지\n"
     ]
    }
   ],
   "source": [
    "my_bicycle1 = Bicycle() # 클래스의 인스턴스 생성\n",
    "\n",
    "my_bicycle1.wheel_size = 27  # 객체의 속성 설정\n",
    "my_bicycle1.color = 'red'\n",
    "\n",
    "my_bicycle1.move(20)   # 객체의 메서드 호출\n",
    "my_bicycle1.turn('좌')\n",
    "my_bicycle1.stop()"
   ]
  },
  {
   "cell_type": "code",
   "execution_count": 16,
   "metadata": {},
   "outputs": [],
   "source": [
    "class Bicycle() :\n",
    "    wheel_size = 26\n",
    "    color = 'black'\n",
    "    \n",
    "    def move(self, speed):\n",
    "        print(f'자전거: 시속 {speed}킬로미터로 전진')\n",
    "    \n",
    "    \n",
    "    def turn(self, direction):\n",
    "        print(f'자전거: {direction}회전')\n",
    "        \n",
    "    \n",
    "    def stop(self):\n",
    "        print(f'자전거({self.wheel_size}, {self.color}): 정지')"
   ]
  },
  {
   "cell_type": "code",
   "execution_count": 17,
   "metadata": {},
   "outputs": [],
   "source": [
    "my_Bicycle = Bicycle()"
   ]
  },
  {
   "cell_type": "code",
   "execution_count": 18,
   "metadata": {},
   "outputs": [
    {
     "name": "stdout",
     "output_type": "stream",
     "text": [
      "자전거: 시속 30킬로미터로 전진\n"
     ]
    }
   ],
   "source": [
    "my_Bicycle.move(30)"
   ]
  },
  {
   "cell_type": "code",
   "execution_count": 19,
   "metadata": {},
   "outputs": [
    {
     "name": "stdout",
     "output_type": "stream",
     "text": [
      "자전거(26, black): 정지\n"
     ]
    }
   ],
   "source": [
    "my_Bicycle.stop()"
   ]
  },
  {
   "cell_type": "code",
   "execution_count": 20,
   "metadata": {},
   "outputs": [
    {
     "data": {
      "text/plain": [
       "'black'"
      ]
     },
     "execution_count": 20,
     "metadata": {},
     "output_type": "execute_result"
    }
   ],
   "source": [
    "my_Bicycle.color"
   ]
  },
  {
   "cell_type": "code",
   "execution_count": 23,
   "metadata": {},
   "outputs": [
    {
     "name": "stdout",
     "output_type": "stream",
     "text": [
      "자전거: 시속 15킬로미터로 전진\n",
      "자전거: 우회전\n",
      "자전거(24, blue): 정지\n"
     ]
    }
   ],
   "source": [
    "my_bicycle2 = Bicycle() # 클래스의 인스턴스 생성\n",
    "\n",
    "my_bicycle2.wheel_size = 24  # 객체의 속성 설정\n",
    "my_bicycle2.color = 'blue'\n",
    "\n",
    "my_bicycle2.move(15)   # 객체의 메서드 호출\n",
    "my_bicycle2.turn('우')\n",
    "my_bicycle2.stop()"
   ]
  },
  {
   "cell_type": "code",
   "execution_count": 26,
   "metadata": {},
   "outputs": [
    {
     "data": {
      "text/plain": [
       "<__main__.Bicycle at 0x18d4dbf43a0>"
      ]
     },
     "execution_count": 26,
     "metadata": {},
     "output_type": "execute_result"
    }
   ],
   "source": [
    "Bicycle()"
   ]
  },
  {
   "cell_type": "markdown",
   "metadata": {},
   "source": [
    "### 객체 초기화"
   ]
  },
  {
   "cell_type": "code",
   "execution_count": 7,
   "metadata": {},
   "outputs": [],
   "source": [
    "class Bicycle() :\n",
    "\n",
    "    \n",
    "    def __init__(self, wheel_size, color):\n",
    "        self.wheel_size = wheel_size\n",
    "        self.color = color\n",
    "    \n",
    "    def move(self, speed):\n",
    "        print(f'자전거: 시속 {speed}킬로미터로 전진')\n",
    "    \n",
    "    \n",
    "    def turn(self, direction):\n",
    "        print(f'자전거: {direction}회전')\n",
    "        \n",
    "    \n",
    "    def stop(self):\n",
    "        print(f'자전거({self.wheel_size}, {self.color}): 정지')"
   ]
  },
  {
   "cell_type": "code",
   "execution_count": 35,
   "metadata": {
    "scrolled": true
   },
   "outputs": [
    {
     "name": "stdout",
     "output_type": "stream",
     "text": [
      "자전거: 시속 15킬로미터로 전진\n",
      "자전거: 우회전\n",
      "자전거(24, blue): 정지\n"
     ]
    }
   ],
   "source": [
    "my_bicycle = Bicycle(24, 'red') # 객체 생성과 동시에 속성값을 지정\n",
    "\n",
    "my_bicycle.move(15)   # 객체의 메서드 호출\n",
    "my_bicycle.turn('우')\n",
    "my_bicycle.stop()"
   ]
  },
  {
   "cell_type": "code",
   "execution_count": 38,
   "metadata": {},
   "outputs": [
    {
     "name": "stdout",
     "output_type": "stream",
     "text": [
      "자전거: 시속 15킬로미터로 전진\n",
      "자전거: 우회전\n",
      "자전거(23, blue): 정지\n"
     ]
    }
   ],
   "source": [
    "my_bicycle1 = Bicycle(23, 'blue' ) # 객체 생성과 동시에 속성값을 지정\n",
    "\n",
    "my_bicycle1.move(15)   # 객체의 메서드 호출\n",
    "my_bicycle1.turn('우')\n",
    "my_bicycle1.stop()"
   ]
  },
  {
   "cell_type": "code",
   "execution_count": null,
   "metadata": {},
   "outputs": [],
   "source": []
  }
 ],
 "metadata": {
  "kernelspec": {
   "display_name": "Python 3",
   "language": "python",
   "name": "python3"
  },
  "language_info": {
   "codemirror_mode": {
    "name": "ipython",
    "version": 3
   },
   "file_extension": ".py",
   "mimetype": "text/x-python",
   "name": "python",
   "nbconvert_exporter": "python",
   "pygments_lexer": "ipython3",
   "version": "3.8.3"
  }
 },
 "nbformat": 4,
 "nbformat_minor": 4
}
