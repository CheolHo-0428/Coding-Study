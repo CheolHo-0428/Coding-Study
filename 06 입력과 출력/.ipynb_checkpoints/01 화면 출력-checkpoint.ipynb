{
 "cells": [
  {
   "cell_type": "code",
   "execution_count": 1,
   "metadata": {},
   "outputs": [
    {
     "name": "stdout",
     "output_type": "stream",
     "text": [
      "Best-python-book\n"
     ]
    }
   ],
   "source": [
    "print('Best', 'python', 'book', sep='-')"
   ]
  },
  {
   "cell_type": "code",
   "execution_count": 2,
   "metadata": {},
   "outputs": [
    {
     "name": "stdout",
     "output_type": "stream",
     "text": [
      "010 - **** - 0857\n"
     ]
    }
   ],
   "source": [
    "print('010', '****', '0857', sep=' - ')"
   ]
  },
  {
   "cell_type": "code",
   "execution_count": 3,
   "metadata": {},
   "outputs": [
    {
     "name": "stdout",
     "output_type": "stream",
     "text": [
      "Name: James, ID Number: 789\n"
     ]
    }
   ],
   "source": [
    "name = 'James'\n",
    "ID_num = 789\n",
    "print('Name:', name + ',', 'ID Number:', ID_num)"
   ]
  },
  {
   "cell_type": "code",
   "execution_count": 9,
   "metadata": {},
   "outputs": [
    {
     "name": "stdout",
     "output_type": "stream",
     "text": [
      "나의 친구는\n",
      "조철호 이다.\n"
     ]
    }
   ],
   "source": [
    "print('나의 친구는\\n조철호 이다.')"
   ]
  },
  {
   "cell_type": "code",
   "execution_count": 8,
   "metadata": {},
   "outputs": [
    {
     "name": "stdout",
     "output_type": "stream",
     "text": [
      "나의 친구는\n",
      "\n",
      "조철호 이다.\n"
     ]
    }
   ],
   "source": [
    "print('나의 친구는\\n\\n조철호 이다.')"
   ]
  },
  {
   "cell_type": "code",
   "execution_count": 10,
   "metadata": {},
   "outputs": [
    {
     "name": "stdout",
     "output_type": "stream",
     "text": [
      "Welcom to python!\n"
     ]
    }
   ],
   "source": [
    "print('Welcom to ', end='')\n",
    "print('python!')"
   ]
  },
  {
   "cell_type": "code",
   "execution_count": 11,
   "metadata": {},
   "outputs": [
    {
     "name": "stdout",
     "output_type": "stream",
     "text": [
      "010-2699-0857\n"
     ]
    }
   ],
   "source": [
    "print('010', '2699', '0857', sep = '-')"
   ]
  },
  {
   "cell_type": "code",
   "execution_count": 13,
   "metadata": {},
   "outputs": [
    {
     "name": "stdout",
     "output_type": "stream",
     "text": [
      "010-1234-5678\n"
     ]
    }
   ],
   "source": [
    "print(\"010\",\"\",sep=\"-\",end=\"\")\n",
    "print(\"1234\",\"\",sep=\"-\",end=\"\")\n",
    "print(\"5678\")"
   ]
  },
  {
   "cell_type": "code",
   "execution_count": 15,
   "metadata": {},
   "outputs": [
    {
     "name": "stdout",
     "output_type": "stream",
     "text": [
      "best python book\n",
      "best python book\n"
     ]
    }
   ],
   "source": [
    "print( 'best python book' )\n",
    "print( 'best', 'python', 'book')"
   ]
  },
  {
   "cell_type": "code",
   "execution_count": 16,
   "metadata": {},
   "outputs": [
    {
     "name": "stdout",
     "output_type": "stream",
     "text": [
      "Best-python-book\n"
     ]
    }
   ],
   "source": [
    "print('Best', 'python', 'book', sep='-')"
   ]
  },
  {
   "cell_type": "code",
   "execution_count": 17,
   "metadata": {},
   "outputs": [
    {
     "name": "stdout",
     "output_type": "stream",
     "text": [
      "Bestpythonbook\n"
     ]
    }
   ],
   "source": [
    "print('Best' + 'python' + 'book')"
   ]
  },
  {
   "cell_type": "code",
   "execution_count": 18,
   "metadata": {},
   "outputs": [
    {
     "name": "stdout",
     "output_type": "stream",
     "text": [
      "Best python book: This book\n"
     ]
    }
   ],
   "source": [
    "print('Best', 'python', 'book' + ':', 'This book')"
   ]
  },
  {
   "cell_type": "code",
   "execution_count": 19,
   "metadata": {},
   "outputs": [
    {
     "name": "stdout",
     "output_type": "stream",
     "text": [
      "Best 1\n"
     ]
    }
   ],
   "source": [
    "print('Best', 1)"
   ]
  },
  {
   "cell_type": "code",
   "execution_count": 2,
   "metadata": {},
   "outputs": [
    {
     "name": "stdout",
     "output_type": "stream",
     "text": [
      "Best 1\n"
     ]
    }
   ],
   "source": [
    "print('Best', 1)"
   ]
  },
  {
   "cell_type": "code",
   "execution_count": 1,
   "metadata": {},
   "outputs": [
    {
     "name": "stdout",
     "output_type": "stream",
     "text": [
      "Name James, ID Number: 789\n"
     ]
    }
   ],
   "source": [
    "name = 'James'\n",
    "ID_num = 789\n",
    "print('Name', name + ',', 'ID Number:', ID_num)"
   ]
  },
  {
   "cell_type": "code",
   "execution_count": 23,
   "metadata": {},
   "outputs": [
    {
     "name": "stdout",
     "output_type": "stream",
     "text": [
      "James is my friend.\n",
      "He is Korean.\n"
     ]
    }
   ],
   "source": [
    "print('James is my friend.\\nHe is Korean.')"
   ]
  },
  {
   "cell_type": "code",
   "execution_count": 24,
   "metadata": {},
   "outputs": [
    {
     "name": "stdout",
     "output_type": "stream",
     "text": [
      "Welcome to\n",
      "python!\n"
     ]
    }
   ],
   "source": [
    "print('Welcome to')\n",
    "print('python!')"
   ]
  },
  {
   "cell_type": "code",
   "execution_count": 28,
   "metadata": {},
   "outputs": [
    {
     "name": "stdout",
     "output_type": "stream",
     "text": [
      "Welcome to python!\n"
     ]
    }
   ],
   "source": [
    "print('Welcome to ', end='')\n",
    "print('python!')"
   ]
  },
  {
   "cell_type": "markdown",
   "metadata": {},
   "source": [
    "#### 형식 지정 출력"
   ]
  },
  {
   "cell_type": "markdown",
   "metadata": {},
   "source": [
    "##### 나머지 연산자(%)를 이용한 형식 및 위치 지정"
   ]
  },
  {
   "cell_type": "code",
   "execution_count": 4,
   "metadata": {},
   "outputs": [
    {
     "name": "stdout",
     "output_type": "stream",
     "text": [
      "광재는 나의 친구입니다.\n",
      "광재는 나의 친구입니다.\n"
     ]
    }
   ],
   "source": [
    "name = '광재'\n",
    "print('%s는 나의 친구입니다.' % name)\n",
    "print(name + '는 나의 친구입니다.')"
   ]
  },
  {
   "cell_type": "code",
   "execution_count": 5,
   "metadata": {},
   "outputs": [
    {
     "name": "stdout",
     "output_type": "stream",
     "text": [
      "반지름: 3, 원주율: 3.141593\n"
     ]
    }
   ],
   "source": [
    "r = 3\n",
    "PI = 3.1415929894989\n",
    "print('반지름: %d, 원주율: %f' %(r,PI))"
   ]
  },
  {
   "cell_type": "markdown",
   "metadata": {},
   "source": [
    "##### 형식 지정 문자열에서 출력 위치 지정"
   ]
  },
  {
   "cell_type": "code",
   "execution_count": 6,
   "metadata": {},
   "outputs": [
    {
     "name": "stdout",
     "output_type": "stream",
     "text": [
      "Animal: cat\n"
     ]
    },
    {
     "ename": "NameError",
     "evalue": "name 'animal_2' is not defined",
     "output_type": "error",
     "traceback": [
      "\u001b[1;31m---------------------------------------------------------------------------\u001b[0m",
      "\u001b[1;31mNameError\u001b[0m                                 Traceback (most recent call last)",
      "\u001b[1;32m<ipython-input-6-4dd20463290d>\u001b[0m in \u001b[0;36m<module>\u001b[1;34m\u001b[0m\n\u001b[0;32m      4\u001b[0m \u001b[1;33m\u001b[0m\u001b[0m\n\u001b[0;32m      5\u001b[0m \u001b[0mprint\u001b[0m\u001b[1;33m(\u001b[0m\u001b[1;34m'Animal: {0}'\u001b[0m\u001b[1;33m.\u001b[0m \u001b[0mformat\u001b[0m\u001b[1;33m(\u001b[0m\u001b[0manimal_0\u001b[0m\u001b[1;33m)\u001b[0m\u001b[1;33m)\u001b[0m\u001b[1;33m\u001b[0m\u001b[1;33m\u001b[0m\u001b[0m\n\u001b[1;32m----> 6\u001b[1;33m \u001b[0mprint\u001b[0m\u001b[1;33m(\u001b[0m\u001b[1;34m'Animal: {0},{1},{2}'\u001b[0m\u001b[1;33m.\u001b[0m \u001b[0mformat\u001b[0m\u001b[1;33m(\u001b[0m\u001b[0manimal_0\u001b[0m\u001b[1;33m,\u001b[0m \u001b[0manimal_1\u001b[0m\u001b[1;33m,\u001b[0m \u001b[0manimal_2\u001b[0m\u001b[1;33m)\u001b[0m\u001b[1;33m)\u001b[0m\u001b[1;33m\u001b[0m\u001b[1;33m\u001b[0m\u001b[0m\n\u001b[0m",
      "\u001b[1;31mNameError\u001b[0m: name 'animal_2' is not defined"
     ]
    }
   ],
   "source": [
    "animal_0 = 'cat'\n",
    "animal_1 = 'dog'\n",
    "animal_1 = 'fox'\n",
    "\n",
    "print('Animal: {0}'. format(animal_0))\n",
    "print('Animal: {0},{1},{2}'. format(animal_0, animal_1, animal_2))"
   ]
  },
  {
   "cell_type": "code",
   "execution_count": 7,
   "metadata": {},
   "outputs": [
    {
     "name": "stdout",
     "output_type": "stream",
     "text": [
      "Animal: cat\n",
      "Animal: cat,dog,fox\n"
     ]
    }
   ],
   "source": [
    "animal_0 = 'cat'\n",
    "animal_1 = 'dog'\n",
    "animal_2 = 'fox'\n",
    "\n",
    "print('Animal: {0}'. format(animal_0))\n",
    "print('Animal: {0},{1},{2}'. format(animal_0, animal_1, animal_2))"
   ]
  },
  {
   "cell_type": "code",
   "execution_count": 8,
   "metadata": {},
   "outputs": [
    {
     "name": "stdout",
     "output_type": "stream",
     "text": [
      "Animal: dog,fox,cat\n"
     ]
    }
   ],
   "source": [
    "print('Animal: {1},{2},{0}'. format(animal_0, animal_1, animal_2))"
   ]
  },
  {
   "cell_type": "code",
   "execution_count": 10,
   "metadata": {},
   "outputs": [
    {
     "name": "stdout",
     "output_type": "stream",
     "text": [
      "Phone num : 010-2699-0857\n"
     ]
    }
   ],
   "source": [
    "phone_0 = '010'\n",
    "phone_1 = '2699'\n",
    "phone_2 = '0857'\n",
    "\n",
    "print('Phone num : {0}-{1}-{2}'.format(phone_0, phone_1, phone_2))"
   ]
  },
  {
   "cell_type": "code",
   "execution_count": 11,
   "metadata": {},
   "outputs": [
    {
     "name": "stdout",
     "output_type": "stream",
     "text": [
      "Phone num : 2699-0857\n"
     ]
    }
   ],
   "source": [
    "print('Phone num : {1}-{2}'.format(phone_0, phone_1, phone_2))"
   ]
  },
  {
   "cell_type": "code",
   "execution_count": 12,
   "metadata": {},
   "outputs": [
    {
     "name": "stdout",
     "output_type": "stream",
     "text": [
      "Phone num : 010-****-0857\n"
     ]
    }
   ],
   "source": [
    "phone_0 = '010'\n",
    "phone_1 = '2699'\n",
    "phone_2 = '0857'\n",
    "\n",
    "print('Phone num : {0}-****-{2}'.format(phone_0, phone_1, phone_2))"
   ]
  },
  {
   "cell_type": "code",
   "execution_count": 13,
   "metadata": {},
   "outputs": [
    {
     "name": "stdout",
     "output_type": "stream",
     "text": [
      "Animal: cat,fox\n"
     ]
    }
   ],
   "source": [
    "print('Animal: {0},{2}'. format(animal_0, animal_1, animal_2))"
   ]
  },
  {
   "cell_type": "code",
   "execution_count": 14,
   "metadata": {},
   "outputs": [
    {
     "name": "stdout",
     "output_type": "stream",
     "text": [
      "Animal: cat,dog,fox\n"
     ]
    }
   ],
   "source": [
    "print('Animal: {},{},{}'. format(animal_0, animal_1, animal_2))"
   ]
  },
  {
   "cell_type": "code",
   "execution_count": 15,
   "metadata": {},
   "outputs": [
    {
     "name": "stdout",
     "output_type": "stream",
     "text": [
      "String: Thomas, Integer Number: 10, Floating Number: 0.12313513524513514\n"
     ]
    }
   ],
   "source": [
    "name = 'Thomas'\n",
    "age = 10\n",
    "a = 0.123135135245135135135135\n",
    "fmt_string = 'String: {0}, Integer Number: {1}, Floating Number: {2}'\n",
    "print(fmt_string.format(name, age, a))"
   ]
  },
  {
   "cell_type": "markdown",
   "metadata": {},
   "source": [
    "##### 형식 지정 문자열에서 숫자 출력 형식 지정"
   ]
  },
  {
   "cell_type": "code",
   "execution_count": 16,
   "metadata": {},
   "outputs": [
    {
     "name": "stdout",
     "output_type": "stream",
     "text": [
      "0.12345678901234568, 0.12345678901234568\n"
     ]
    }
   ],
   "source": [
    "a = 0.1234567890123456789\n",
    "print('{0}, {0}'.format(a))"
   ]
  },
  {
   "cell_type": "code",
   "execution_count": 17,
   "metadata": {},
   "outputs": [
    {
     "name": "stdout",
     "output_type": "stream",
     "text": [
      "0.12, 0.12346\n"
     ]
    }
   ],
   "source": [
    "a = 0.1234567890123456789\n",
    "print('{0:.2f}, {0:.5f}'.format(a)) # 소수점 지정 가능 / 반올림 적용됨!"
   ]
  },
  {
   "cell_type": "code",
   "execution_count": 18,
   "metadata": {},
   "outputs": [
    {
     "name": "stdout",
     "output_type": "stream",
     "text": [
      "3\n"
     ]
    }
   ],
   "source": [
    "x = 3\n",
    "print(x)"
   ]
  },
  {
   "cell_type": "code",
   "execution_count": 19,
   "metadata": {},
   "outputs": [
    {
     "name": "stdout",
     "output_type": "stream",
     "text": [
      "3\n"
     ]
    }
   ],
   "source": [
    "x = 3\n",
    "print('{0}'.format(x))"
   ]
  },
  {
   "cell_type": "code",
   "execution_count": 20,
   "metadata": {},
   "outputs": [
    {
     "name": "stdout",
     "output_type": "stream",
     "text": [
      " 3\n"
     ]
    }
   ],
   "source": [
    "x = 3\n",
    "print('{0:2d}'.format(x))"
   ]
  },
  {
   "cell_type": "code",
   "execution_count": 21,
   "metadata": {},
   "outputs": [
    {
     "name": "stdout",
     "output_type": "stream",
     "text": [
      "00003\n"
     ]
    }
   ],
   "source": [
    "x = 3\n",
    "print('{0:05d}'.format(x))"
   ]
  },
  {
   "cell_type": "code",
   "execution_count": 24,
   "metadata": {},
   "outputs": [
    {
     "name": "stdout",
     "output_type": "stream",
     "text": [
      "    3\n"
     ]
    }
   ],
   "source": [
    "x = 3\n",
    "print('{0:5d}'.format(x))"
   ]
  },
  {
   "cell_type": "code",
   "execution_count": 22,
   "metadata": {},
   "outputs": [
    {
     "name": "stdout",
     "output_type": "stream",
     "text": [
      "00003\n"
     ]
    }
   ],
   "source": [
    "x = 3\n",
    "print('{0:>05d}'.format(x))"
   ]
  },
  {
   "cell_type": "code",
   "execution_count": 23,
   "metadata": {},
   "outputs": [
    {
     "name": "stdout",
     "output_type": "stream",
     "text": [
      "30000\n"
     ]
    }
   ],
   "source": [
    "x = 3\n",
    "print('{0:<05d}'.format(x))"
   ]
  },
  {
   "cell_type": "code",
   "execution_count": 26,
   "metadata": {},
   "outputs": [
    {
     "name": "stdout",
     "output_type": "stream",
     "text": [
      "3\n"
     ]
    }
   ],
   "source": [
    "x = 3\n",
    "print('{0}'.format(x))"
   ]
  },
  {
   "cell_type": "code",
   "execution_count": 27,
   "metadata": {},
   "outputs": [
    {
     "name": "stdout",
     "output_type": "stream",
     "text": [
      "3.000\n"
     ]
    }
   ],
   "source": [
    "x = 3\n",
    "print('{0:.3f}'.format(x))"
   ]
  },
  {
   "cell_type": "code",
   "execution_count": 28,
   "metadata": {},
   "outputs": [
    {
     "name": "stdout",
     "output_type": "stream",
     "text": [
      "0.123\n"
     ]
    }
   ],
   "source": [
    "x = 0.12345\n",
    "print('{0:.3f}'.format(x))"
   ]
  },
  {
   "cell_type": "code",
   "execution_count": 29,
   "metadata": {},
   "outputs": [
    {
     "name": "stdout",
     "output_type": "stream",
     "text": [
      "7,456,000\n"
     ]
    }
   ],
   "source": [
    "x= 7456000\n",
    "print('{0:,}'.format(x))"
   ]
  },
  {
   "cell_type": "code",
   "execution_count": 30,
   "metadata": {},
   "outputs": [
    {
     "name": "stdout",
     "output_type": "stream",
     "text": [
      "32.6%\n"
     ]
    }
   ],
   "source": [
    "x = 0.3258\n",
    "print('{0:.1%}'.format(x))"
   ]
  },
  {
   "cell_type": "code",
   "execution_count": 31,
   "metadata": {},
   "outputs": [
    {
     "name": "stdout",
     "output_type": "stream",
     "text": [
      "9.25e+15\n"
     ]
    }
   ],
   "source": [
    "x = 9250000000000000\n",
    "print('{0:.2e}'.format(x))"
   ]
  },
  {
   "cell_type": "code",
   "execution_count": 32,
   "metadata": {},
   "outputs": [
    {
     "name": "stdout",
     "output_type": "stream",
     "text": [
      "0x10\n"
     ]
    }
   ],
   "source": [
    "x = 16\n",
    "print('{0:#x}'.format(x))"
   ]
  },
  {
   "cell_type": "code",
   "execution_count": 33,
   "metadata": {},
   "outputs": [
    {
     "name": "stdout",
     "output_type": "stream",
     "text": [
      "10\n"
     ]
    }
   ],
   "source": [
    "x = 16\n",
    "print('{0:x}'.format(x))"
   ]
  },
  {
   "cell_type": "code",
   "execution_count": 34,
   "metadata": {},
   "outputs": [
    {
     "name": "stdout",
     "output_type": "stream",
     "text": [
      "0b1000\n"
     ]
    }
   ],
   "source": [
    "x = 8\n",
    "print('{0:#b}'.format(x))"
   ]
  },
  {
   "cell_type": "code",
   "execution_count": 35,
   "metadata": {},
   "outputs": [
    {
     "name": "stdout",
     "output_type": "stream",
     "text": [
      "1000\n"
     ]
    }
   ],
   "source": [
    "x = 8\n",
    "print('{0:b}'.format(x))"
   ]
  },
  {
   "cell_type": "code",
   "execution_count": 36,
   "metadata": {},
   "outputs": [
    {
     "name": "stdout",
     "output_type": "stream",
     "text": [
      "철호는 나의 친구입니다\n"
     ]
    }
   ],
   "source": []
  },
  {
   "cell_type": "code",
   "execution_count": 37,
   "metadata": {},
   "outputs": [
    {
     "name": "stdout",
     "output_type": "stream",
     "text": [
      "반지름: 3, 원주율: 3.145969\n"
     ]
    }
   ],
   "source": []
  },
  {
   "cell_type": "code",
   "execution_count": null,
   "metadata": {},
   "outputs": [],
   "source": []
  }
 ],
 "metadata": {
  "kernelspec": {
   "display_name": "Python 3",
   "language": "python",
   "name": "python3"
  },
  "language_info": {
   "codemirror_mode": {
    "name": "ipython",
    "version": 3
   },
   "file_extension": ".py",
   "mimetype": "text/x-python",
   "name": "python",
   "nbconvert_exporter": "python",
   "pygments_lexer": "ipython3",
   "version": "3.8.3"
  }
 },
 "nbformat": 4,
 "nbformat_minor": 4
}
