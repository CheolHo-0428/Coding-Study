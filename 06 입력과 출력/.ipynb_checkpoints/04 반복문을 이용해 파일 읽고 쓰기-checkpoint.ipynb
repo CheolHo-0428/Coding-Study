{
 "cells": [
  {
   "cell_type": "markdown",
   "metadata": {},
   "source": [
    "### 파일에 문자열 한 줄씩 쓰기"
   ]
  },
  {
   "cell_type": "code",
   "execution_count": 1,
   "metadata": {},
   "outputs": [],
   "source": [
    "f = open('two_times_table.txt','w')\n",
    "for num in range(1,6):\n",
    "    format_string = '2 x {0} = {1}\\n'.format(num,2*num)\n",
    "    f.write(format_string)\n",
    "f.close( )"
   ]
  },
  {
   "cell_type": "code",
   "execution_count": 2,
   "metadata": {},
   "outputs": [
    {
     "name": "stderr",
     "output_type": "stream",
     "text": [
      "지정된 파일을 찾을 수 없습니다.\n"
     ]
    }
   ],
   "source": [
    "!type two_times_tale.txt"
   ]
  },
  {
   "cell_type": "code",
   "execution_count": 3,
   "metadata": {},
   "outputs": [],
   "source": [
    "f = open('myFile.txt', 'w')\n",
    "f.write('This is my first file.')\n",
    "f.close( )"
   ]
  },
  {
   "cell_type": "code",
   "execution_count": 4,
   "metadata": {},
   "outputs": [
    {
     "name": "stdout",
     "output_type": "stream",
     "text": [
      "This is my first file.\n"
     ]
    }
   ],
   "source": [
    "!type myFile.txt"
   ]
  },
  {
   "cell_type": "code",
   "execution_count": 5,
   "metadata": {},
   "outputs": [
    {
     "name": "stdout",
     "output_type": "stream",
     "text": [
      "This is my first file.\n"
     ]
    }
   ],
   "source": [
    "f = open('myFile.txt', 'r')\n",
    "file_text = f.read()\n",
    "f.close()\n",
    "\n",
    "print(file_text)"
   ]
  },
  {
   "cell_type": "code",
   "execution_count": 6,
   "metadata": {},
   "outputs": [],
   "source": [
    "f = open('two_times_table.txt','w')\n",
    "for num in range(1,6):\n",
    "    format_string = '2 x {0} = {1}\\n'.format(num,2*num)\n",
    "    f.write(format_string)\n",
    "f.close()"
   ]
  },
  {
   "cell_type": "code",
   "execution_count": 7,
   "metadata": {},
   "outputs": [
    {
     "name": "stdout",
     "output_type": "stream",
     "text": [
      "2 x 1\n",
      "2 x 2\n",
      "2 x 3\n",
      "2 x 4\n",
      "2 x 5\n"
     ]
    }
   ],
   "source": [
    "!type two_times_table.txt"
   ]
  },
  {
   "cell_type": "code",
   "execution_count": 8,
   "metadata": {},
   "outputs": [],
   "source": [
    "f = open('CK.txt', 'w')"
   ]
  },
  {
   "cell_type": "code",
   "execution_count": 20,
   "metadata": {},
   "outputs": [],
   "source": [
    "f = open('cho.txt', 'w')\n",
    "for num in range(1,6):\n",
    "    f_string = '2x{0}={1}\\n'.format(num,num*2)\n",
    "    f.write(f_string)\n",
    "f.close( )"
   ]
  },
  {
   "cell_type": "code",
   "execution_count": 21,
   "metadata": {},
   "outputs": [
    {
     "name": "stdout",
     "output_type": "stream",
     "text": [
      "2x1=2\n",
      "2x2=4\n",
      "2x3=6\n",
      "2x4=8\n",
      "2x5=10\n"
     ]
    }
   ],
   "source": [
    "! type cho.txt"
   ]
  },
  {
   "cell_type": "code",
   "execution_count": 22,
   "metadata": {},
   "outputs": [],
   "source": [
    "f = open('oper.txt', 'w')\n",
    "for a in range(1,6) :\n",
    "    b = '2x{0}={1}'"
   ]
  },
  {
   "cell_type": "code",
   "execution_count": 26,
   "metadata": {},
   "outputs": [],
   "source": [
    "f = open('operation.txt', 'w')\n",
    "\n",
    "for a in range(1,6,1) :\n",
    "    b = '2x{0}={1}\\n'.format(a,a*2)\n",
    "    f.write(b)\n",
    "f.close( )"
   ]
  },
  {
   "cell_type": "code",
   "execution_count": 27,
   "metadata": {},
   "outputs": [
    {
     "name": "stdout",
     "output_type": "stream",
     "text": [
      "2x1=2\n",
      "2x2=4\n",
      "2x3=6\n",
      "2x4=8\n",
      "2x5=10\n"
     ]
    }
   ],
   "source": [
    "!type operation.txt"
   ]
  },
  {
   "cell_type": "markdown",
   "metadata": {},
   "source": [
    "### 파일에서 문자열 한 줄식 읽기"
   ]
  },
  {
   "cell_type": "markdown",
   "metadata": {},
   "source": [
    "#### readline( )"
   ]
  },
  {
   "cell_type": "code",
   "execution_count": 29,
   "metadata": {},
   "outputs": [
    {
     "name": "stdout",
     "output_type": "stream",
     "text": [
      "2 x 1\n",
      "2 x 2\n"
     ]
    }
   ],
   "source": [
    "f = open('two_times_table.txt')\n",
    "line1 = f.readline()\n",
    "line2 = f.readline()\n",
    "f.close()\n",
    "print(line1, end='')\n",
    "print(line2, end='')"
   ]
  },
  {
   "cell_type": "code",
   "execution_count": 30,
   "metadata": {},
   "outputs": [
    {
     "name": "stdout",
     "output_type": "stream",
     "text": [
      "2 x 1\n",
      "2 x 2\n",
      "2 x 3\n",
      "2 x 4\n",
      "2 x 5\n"
     ]
    }
   ],
   "source": [
    "f = open('two_times_table.txt')\n",
    "line = f.readline()\n",
    "while line :\n",
    "    print(line, end ='') # end=''는 숨어있는\\n을 없애주면서 한줄을 땡겨서 출력된다. \n",
    "    line = f.readline()\n",
    "f.close()"
   ]
  },
  {
   "cell_type": "markdown",
   "metadata": {},
   "source": [
    "#### readlines( )"
   ]
  },
  {
   "cell_type": "code",
   "execution_count": 32,
   "metadata": {},
   "outputs": [
    {
     "name": "stdout",
     "output_type": "stream",
     "text": [
      "['2 x 1\\n', '2 x 2\\n', '2 x 3\\n', '2 x 4\\n', '2 x 5\\n']\n"
     ]
    }
   ],
   "source": [
    "f = open('two_times_table.txt')\n",
    "lines = f.readlines()\n",
    "\n",
    "f.close()\n",
    "\n",
    "print(lines)"
   ]
  },
  {
   "cell_type": "code",
   "execution_count": 34,
   "metadata": {},
   "outputs": [
    {
     "name": "stdout",
     "output_type": "stream",
     "text": [
      "2 x 1\n",
      "2 x 2\n",
      "2 x 3\n",
      "2 x 4\n",
      "2 x 5\n"
     ]
    }
   ],
   "source": [
    "f = open('two_times_table.txt')\n",
    "lines = f.readlines()\n",
    "f.close()\n",
    "for line in lines :\n",
    "    print(line, end='')"
   ]
  },
  {
   "cell_type": "code",
   "execution_count": 35,
   "metadata": {},
   "outputs": [
    {
     "name": "stdout",
     "output_type": "stream",
     "text": [
      "2 x 1\n",
      "2 x 2\n",
      "2 x 3\n",
      "2 x 4\n",
      "2 x 5\n"
     ]
    }
   ],
   "source": [
    "f = open('two_times_table.txt')\n",
    "for line in f.readlines() :\n",
    "    print(line, end='')\n",
    "f.close()"
   ]
  },
  {
   "cell_type": "code",
   "execution_count": 36,
   "metadata": {},
   "outputs": [
    {
     "name": "stdout",
     "output_type": "stream",
     "text": [
      "2 x 1\n",
      "2 x 2\n",
      "2 x 3\n",
      "2 x 4\n",
      "2 x 5\n"
     ]
    }
   ],
   "source": [
    "f = open('two_times_table.txt')\n",
    "for line in f:\n",
    "    print(line, end='')\n",
    "f.close()"
   ]
  },
  {
   "cell_type": "code",
   "execution_count": null,
   "metadata": {},
   "outputs": [],
   "source": []
  },
  {
   "cell_type": "code",
   "execution_count": null,
   "metadata": {},
   "outputs": [],
   "source": []
  },
  {
   "cell_type": "code",
   "execution_count": null,
   "metadata": {},
   "outputs": [],
   "source": []
  },
  {
   "cell_type": "code",
   "execution_count": 40,
   "metadata": {},
   "outputs": [
    {
     "name": "stdout",
     "output_type": "stream",
     "text": [
      "2 x 1\n",
      "2 x 2\n",
      "2 x 3\n"
     ]
    }
   ],
   "source": [
    "f = open('two_times_table.txt')\n",
    "line1 = f.readline()\n",
    "line2 = f.readline()\n",
    "line3 = f.readline()\n",
    "f.close()\n",
    "print(line1, end='')\n",
    "print(line2, end='')\n",
    "print(line3, end='')"
   ]
  },
  {
   "cell_type": "code",
   "execution_count": 46,
   "metadata": {},
   "outputs": [
    {
     "name": "stdout",
     "output_type": "stream",
     "text": [
      "2 x 1\n",
      "\n"
     ]
    }
   ],
   "source": [
    "f = open('two_times_table.txt')\n",
    "line1 = f.readline()\n",
    "\n",
    "\n",
    "f.close()\n",
    "\n",
    "\n",
    "print(line1)"
   ]
  },
  {
   "cell_type": "code",
   "execution_count": 50,
   "metadata": {},
   "outputs": [
    {
     "name": "stdout",
     "output_type": "stream",
     "text": [
      "2 x 1\n",
      "2 x 2\n",
      "2 x 3\n",
      "2 x 4\n",
      "2 x 5\n"
     ]
    }
   ],
   "source": [
    "f = open('two_times_table.txt', 'r')\n",
    "line = f.readline( )\n",
    "while line :\n",
    "    print(line, end='')\n",
    "    line = f.readline()\n",
    "f.close()"
   ]
  },
  {
   "cell_type": "code",
   "execution_count": null,
   "metadata": {},
   "outputs": [],
   "source": []
  }
 ],
 "metadata": {
  "kernelspec": {
   "display_name": "Python 3",
   "language": "python",
   "name": "python3"
  },
  "language_info": {
   "codemirror_mode": {
    "name": "ipython",
    "version": 3
   },
   "file_extension": ".py",
   "mimetype": "text/x-python",
   "name": "python",
   "nbconvert_exporter": "python",
   "pygments_lexer": "ipython3",
   "version": "3.8.3"
  }
 },
 "nbformat": 4,
 "nbformat_minor": 4
}
