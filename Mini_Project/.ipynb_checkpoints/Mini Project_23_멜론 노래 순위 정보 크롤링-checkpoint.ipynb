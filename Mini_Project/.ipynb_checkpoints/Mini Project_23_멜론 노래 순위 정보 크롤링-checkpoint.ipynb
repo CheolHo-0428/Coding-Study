{
 "cells": [
  {
   "cell_type": "markdown",
   "metadata": {},
   "source": [
    "### Condition (첫사용시 selenium이랑 크롬 드라이브 설치해야됨!!)"
   ]
  },
  {
   "cell_type": "markdown",
   "metadata": {},
   "source": [
    "### 1. 순위\n",
    "### 2. 썸네일\n",
    "### 3. 곡정보\n",
    "### 4. 가수명\n",
    "\n",
    "### 을 멜론에서 추출해서 excel로 저장하기"
   ]
  },
  {
   "cell_type": "markdown",
   "metadata": {},
   "source": [
    "### My Code"
   ]
  },
  {
   "cell_type": "code",
   "execution_count": 109,
   "metadata": {},
   "outputs": [],
   "source": [
    "import pandas as pd\n",
    "from bs4 import BeautifulSoup\n",
    "import glob\n",
    "from selenium import webdriver\n",
    "import requests \n",
    "import os\n",
    "\n",
    "driver = webdriver.Chrome('c:/chromedriver.exe')\n",
    "url = 'https://www.melon.com/chart/day/index.htm'\n",
    "# url= 'https://www.melon.com/chart/month/index.htm'\n",
    "driver.get(url)\n",
    "html = driver.page_source\n",
    "\n",
    "soup = BeautifulSoup(html,'html.parser')"
   ]
  },
  {
   "cell_type": "code",
   "execution_count": 110,
   "metadata": {},
   "outputs": [],
   "source": [
    "melon_ranks = soup.select('td div.wrap span.rank')            # 순위 추출\n",
    "melon_titles = soup.select('div.rank01 span a')               # 타이틀 추출\n",
    "melon_artists = soup.select('div.rank02 span a')              # 아티스트 추출"
   ]
  },
  {
   "cell_type": "code",
   "execution_count": 111,
   "metadata": {},
   "outputs": [],
   "source": [
    "melon_images_elements = soup.select('td div.wrap a.image_typeAll img') # 썸네일 추출\n",
    "\n",
    "folder = \"C:/myPyCode/Malon2\"\n",
    "\n",
    "if not os.path.exists(folder) :\n",
    "    os.makedirs(folder)\n",
    "\n",
    "# c = []\n",
    "# res  = []\n",
    "for melon_images_html in melon_images_elements  :\n",
    "    A = melon_images_html.get('src')\n",
    "    B = A.split('/melon/resize/120/quality/80/optimize')\n",
    "    front_image_file_name = B[0]\n",
    "#     c.append(front_image_file_name)\n",
    "    # print(front_image_file_name)\n",
    "    image_file_name = os.path.basename(front_image_file_name)\n",
    "    image_path = os.path.join(folder, image_file_name)\n",
    "    imageFile = open(image_path, 'wb')\n",
    "\n",
    "    html_image = requests.get(front_image_file_name)\n",
    "#     res.append(html_image)\n",
    "\n",
    "    chunk_size = 1000000\n",
    "    for chunk in html_image.iter_content(chunk_size) :\n",
    "        imageFile.write(chunk)\n",
    "    imageFile.close()\n",
    "\n",
    "#     os.listdir(folder)"
   ]
  },
  {
   "cell_type": "code",
   "execution_count": null,
   "metadata": {},
   "outputs": [],
   "source": [
    "print(len(c), len(res))\n",
    "import collections\n",
    "collections.Counter([i.get('src')for i in melon_images_elements])"
   ]
  },
  {
   "cell_type": "code",
   "execution_count": null,
   "metadata": {},
   "outputs": [],
   "source": []
  },
  {
   "cell_type": "code",
   "execution_count": null,
   "metadata": {},
   "outputs": [],
   "source": []
  },
  {
   "cell_type": "code",
   "execution_count": null,
   "metadata": {},
   "outputs": [],
   "source": []
  },
  {
   "cell_type": "code",
   "execution_count": null,
   "metadata": {},
   "outputs": [],
   "source": []
  },
  {
   "cell_type": "code",
   "execution_count": null,
   "metadata": {},
   "outputs": [],
   "source": []
  },
  {
   "cell_type": "code",
   "execution_count": null,
   "metadata": {},
   "outputs": [],
   "source": []
  },
  {
   "cell_type": "code",
   "execution_count": null,
   "metadata": {},
   "outputs": [],
   "source": []
  },
  {
   "cell_type": "code",
   "execution_count": null,
   "metadata": {},
   "outputs": [],
   "source": []
  },
  {
   "cell_type": "code",
   "execution_count": null,
   "metadata": {},
   "outputs": [],
   "source": []
  },
  {
   "cell_type": "code",
   "execution_count": null,
   "metadata": {},
   "outputs": [],
   "source": []
  },
  {
   "cell_type": "code",
   "execution_count": null,
   "metadata": {},
   "outputs": [],
   "source": []
  },
  {
   "cell_type": "code",
   "execution_count": null,
   "metadata": {},
   "outputs": [],
   "source": []
  },
  {
   "cell_type": "code",
   "execution_count": null,
   "metadata": {},
   "outputs": [],
   "source": []
  },
  {
   "cell_type": "code",
   "execution_count": null,
   "metadata": {},
   "outputs": [],
   "source": []
  },
  {
   "cell_type": "markdown",
   "metadata": {},
   "source": [
    "### Another Code"
   ]
  },
  {
   "cell_type": "code",
   "execution_count": null,
   "metadata": {},
   "outputs": [],
   "source": [
    "from bs4 import BeautifulSoup\n",
    "import openpyxl\n",
    "import requests\n",
    "import os\n",
    "from io import BytesIO\n",
    "import requests\n",
    "import xlsxwriter\n",
    "from selenium import webdriver\n",
    "driver = webdriver.Chrome(\"C:/playwithdata/chromedriver.exe\")\n",
    "# driver = webdriver.Chrome(\"C:/Users/Playdata/Desktop/chromedriver.exe\")\n",
    "url = 'https://www.melon.com/new/index.htm#params%5BareaFlg%5D=I&po=pageObj&startIndex=1'\n",
    "driver.implicitly_wait(1)\n",
    "driver.get(url)\n",
    "html = driver.page_source\n",
    "workbook = xlsxwriter.Workbook('C:/Users/Playdata/Desktop/melon.xlsx')\n",
    "ws = workbook.add_worksheet()\n",
    "\n",
    "ws.write(0, 0, 'No')\n",
    "ws.write(0, 2, '곡정보')\n",
    "ws.write(0, 3, '가수')\n",
    "ws.write(0, 4, '앨범')\n",
    "soup = BeautifulSoup(html,\"html.parser\")\n",
    "sub = soup.select(\".ellipsis.rank01\") # 노래명\n",
    "sub2 = soup.select(\".ellipsis.rank02\") # 가수명\n",
    "sub3 = soup.select(\".ellipsis.rank03\") # 앨범명\n",
    "images = soup.select(\"tbody img\")\n",
    "ws.set_default_row(120) # row height 설정\n",
    "\n",
    "for i in range(len(sub2)):\n",
    "    p1=sub[i].get_text().strip().split(\"\\n\")[0]\n",
    "    p2=sub2[i].get_text().strip().split(\"\\n\")[0]\n",
    "    p3=sub3[i].get_text().strip().split(\"\\n\")[0]\n",
    "    ws.write(i+1, 0, i+1) \n",
    "    ws.write(i+1, 2, p1) \n",
    "    ws.write(i+1, 3, p2[:len(p2)//2])\n",
    "    ws.write(i+1, 4, p3) \n",
    "    ws.set_column(i+1, 1, 30) \n",
    "i=1\n",
    "for p in images:\n",
    "    p=p.get(\"src\")\n",
    "    html_image = requests.get(p)\n",
    "    res = requests.get(p)\n",
    "    image_data = BytesIO(res.content)\n",
    "    image_size = len(image_data.getvalue())\n",
    "    if image_size > 0: \n",
    "        ws.insert_image('B'+str(i+1), url, {'image_data': image_data}) \n",
    "    i+=1\n",
    "workbook.close()"
   ]
  }
 ],
 "metadata": {
  "kernelspec": {
   "display_name": "Python 3",
   "language": "python",
   "name": "python3"
  }
 },
 "nbformat": 4,
 "nbformat_minor": 4
}
