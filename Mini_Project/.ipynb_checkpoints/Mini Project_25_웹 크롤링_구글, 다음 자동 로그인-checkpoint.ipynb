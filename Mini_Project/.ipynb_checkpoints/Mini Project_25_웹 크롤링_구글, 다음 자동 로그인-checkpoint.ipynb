{
 "cells": [
  {
   "cell_type": "markdown",
   "metadata": {},
   "source": [
    "### Condition\n",
    "\n",
    "### selenium을 사용해 구글 및 다음에 자동 로그인 해보기"
   ]
  },
  {
   "cell_type": "markdown",
   "metadata": {},
   "source": [
    "###  My Code(다음 자동 로그인)"
   ]
  },
  {
   "cell_type": "code",
   "execution_count": 5,
   "metadata": {},
   "outputs": [],
   "source": [
    "from selenium import webdriver\n",
    "\n",
    "driver = webdriver.Chrome('c:/chromedriver.exe')\n",
    "url = 'https://www.daum.net/'\n",
    "driver.get(url)\n",
    "\n",
    "driver.find_element_by_xpath('//*[@id=\"inner_login\"]/a[1]').click() # 다음 로그인 버튼 클릭\n",
    "\n",
    "daum_id = 'chulho_chulpan'        # 아이디 변수에 할당\n",
    "daum_pw = ''                      # 비밀번호 변수에 할당 / 비밀번호는 변수에 입력해줘야 됨\n",
    "\n",
    "driver.execute_script(\"document.getElementsByName('id')[0].value=\\'\"+daum_id+\"\\'\")   # 아이디 입력 (driver.execute_script 코드)\n",
    "driver.execute_script(\"document.getElementsByName('pw')[0].value=\\'\"+daum_pw+\"\\'\")   # 비밀번호 입력 (driver.execute_script 코드)\n",
    "\n",
    "driver.find_element_by_xpath('//*[@id=\"loginBtn\"]').click() #로그인 버튼 클릭"
   ]
  },
  {
   "cell_type": "markdown",
   "metadata": {},
   "source": [
    "###  My Code(다음, 카카오 통합 로그인)"
   ]
  },
  {
   "cell_type": "code",
   "execution_count": 3,
   "metadata": {},
   "outputs": [
    {
     "name": "stdout",
     "output_type": "stream",
     "text": [
      "자동로그인할 방식을 선택해주세요(다음 or 카카오) : 카카오\n"
     ]
    }
   ],
   "source": [
    "from selenium import webdriver\n",
    "from time import sleep\n",
    "\n",
    "lgmethod = input('자동로그인할 방식을 선택해주세요(다음 or 카카오) : ')  # '다음' or '카카오' 둘중 한개를 입력\n",
    "\n",
    "daum_id = 'chulho_chulpan'           # 아이디 변수에 할당\n",
    "daum_pw = ''                         # 비밀번호 변수에 할당 / 비밀번호는 변수에 입력해줘야 됨\n",
    "\n",
    "kakao_id = 'againnr@naver.com'\n",
    "kakao_pw = ''\n",
    "\n",
    "driver = webdriver.Chrome('c:/chromedriver.exe')\n",
    "url = 'https://www.daum.net/'\n",
    "\n",
    "driver.implicitly_wait(3)\n",
    "\n",
    "driver.get(url)\n",
    "\n",
    "if lgmethod == '다음' :\n",
    "    driver.find_element_by_xpath('//*[@id=\"inner_login\"]/a[1]').click()\n",
    "    \n",
    "    sleep(3)\n",
    "\n",
    "    driver.execute_script(\"document.getElementsByName('id')[0].value=\\'\"+daum_id+\"\\'\")   # 아이디 입력\n",
    "    driver.execute_script(\"document.getElementsByName('pw')[0].value=\\'\"+daum_pw+\"\\'\")   # 비밀번호 입력\n",
    "\n",
    "    driver.find_element_by_xpath('//*[@id=\"loginBtn\"]').click()\n",
    "    \n",
    "    sleep(3)\n",
    "\n",
    "else :\n",
    "    driver.find_element_by_xpath('//*[@id=\"inner_login\"]/a[2]').click()\n",
    "    \n",
    "    sleep(3)\n",
    "    \n",
    "    driver.execute_script(\"document.getElementsByName('email')[0].value=\\'\"+kakao_id+\"\\'\")   # 아이디 입력\n",
    "    driver.execute_script(\"document.getElementsByName('password')[0].value=\\'\"+kakao_pw+\"\\'\")   # 비밀번호 입력\n",
    "\n",
    "    driver.find_element_by_xpath('//*[@id=\"login-form\"]/fieldset/div[8]/button[1]').click()\n",
    "    \n",
    "    sleep(3)"
   ]
  },
  {
   "cell_type": "markdown",
   "metadata": {},
   "source": [
    "###  My Code(구글 자동 로그인)"
   ]
  },
  {
   "cell_type": "code",
   "execution_count": 35,
   "metadata": {},
   "outputs": [],
   "source": [
    "from selenium import webdriver\n",
    "from time import sleep\n",
    "\n",
    "google_email = 'againnr2@gmail.com'\n",
    "google_pw = 'qlqlaqkq1.'\n",
    "\n",
    "driver = webdriver.Chrome('c:/chromedriver.exe')\n",
    "url1 = 'https://www.google.com/'\n",
    "\n",
    "driver.implicitly_wait(3)\n",
    "\n",
    "driver.get(url1)\n",
    "\n",
    "google_id = 'againnr1@gmail.com'\n",
    "google_pw = 'qlqlaqkq1.'\n",
    "\n",
    "driver.find_element_by_xpath('//*[@id=\"gb_70\"]').click()\n",
    "\n",
    "sleep(3)\n",
    "\n",
    "driver.find_element_by_name('identifier').send_keys(google_id)\n",
    "driver.find_element_by_xpath('//*[@id=\"identifierNext\"]/div/button/div[2]').click() \n",
    "\n",
    "sleep(3)\n",
    "\n",
    "driver.find_element_by_name('password').send_keys(google_pw)\n",
    "driver.find_element_by_xpath('//*[@id=\"passwordNext\"]/div/button/div[2]').click() \n",
    "\n",
    "sleep(3)"
   ]
  },
  {
   "cell_type": "markdown",
   "metadata": {},
   "source": [
    "### Another Code(구글)"
   ]
  },
  {
   "cell_type": "code",
   "execution_count": 31,
   "metadata": {},
   "outputs": [],
   "source": [
    "from selenium import webdriver\n",
    "from time import sleep\n",
    "\n",
    "driver = webdriver.Chrome('c:/chromedriver')\n",
    "url = 'https://www.google.com/'\n",
    "\n",
    "driver.implicitly_wait(3)\n",
    "\n",
    "driver.get(url)\n",
    "\n",
    "google_email = \"\" \n",
    "google_pw = \"\"\n",
    "\n",
    "driver.find_element_by_xpath('//*[@id=\"gb_70\"]').click()\n",
    "driver.find_element_by_xpath('//input[@type=\"email\"]').send_keys(google_email)\n",
    "driver.find_element_by_xpath('//*[@id=\"identifierNext\"]').click()\n",
    "sleep(3)\n",
    "driver.find_element_by_xpath('//input[@type=\"password\"]').send_keys(google_pw)\n",
    "driver.find_element_by_xpath('//*[@id=\"passwordNext\"]').click()\n",
    "sleep(2)"
   ]
  },
  {
   "cell_type": "markdown",
   "metadata": {},
   "source": [
    "### Another Code(구글 2단계 인증 중지)"
   ]
  },
  {
   "cell_type": "code",
   "execution_count": null,
   "metadata": {},
   "outputs": [],
   "source": [
    "!pip install pyperclip\n",
    "\n",
    "# gmail.com\n",
    "# 2단계 인증 중지 : https://support.google.com/accounts/answer/1064203?co=GENIE.Platform%3DDesktop&hl=ko\n",
    "from selenium import webdriver\n",
    "from selenium.webdriver.common.keys import Keys\n",
    "import time\n",
    "\n",
    "driver = webdriver.Chrome('C:/chromedriver')\n",
    "driver.implicitly_wait(3)\n",
    "driver.get('https://accounts.google.com/ServiceLogin/identifier?service=mail&passive=true&rm=false&continue=https%3A%2F%2Fmail.google.com%2Fmail%2F&ss=1&scc=1&ltmpl=default&ltmplcache=2&emr=1&osid=1&flowName=GlifWebSignIn&flowEntry=AddSession')\n",
    "\n",
    "driver.find_element_by_id('identifierId').send_keys('이메일주소') # 본인 이메일 계정을 입력해주세요\n",
    "driver.find_element_by_xpath('//*[@id=\"identifierNext\"]/div/button/div[2]').click()\n",
    "\n",
    "time.sleep(1)\n",
    "\n",
    "driver.find_element_by_name('password').send_keys('비밀번호') # 본인 비밀번호 입력해주세요\n",
    "# driver.find_element_by_xpath('//*[@id=\"passwordNext\"]/span').click() # 안 눌러짐\n",
    "# https://wkdtjsgur100.github.io/selenium-does-not-work-to-click/ 참조!\n",
    "driver.find_element_by_xpath('//*[@id=\"passwordNext\"]/div/button').send_keys(Keys.ENTER)\n",
    "\n",
    "# driver.close()"
   ]
  },
  {
   "cell_type": "markdown",
   "metadata": {},
   "source": [
    "### Another Code(다음 로그인하기)"
   ]
  },
  {
   "cell_type": "code",
   "execution_count": null,
   "metadata": {},
   "outputs": [],
   "source": [
    "from selenium import webdriver\n",
    "\n",
    "driver = webdriver.Chrome('c:/chromedriver.exe')\n",
    "url = 'https://accounts.kakao.com/login?continue=https%3A%2F%2Flogins.daum.net%2Faccounts%2Fksso.do%3Frescue%3Dtrue%26url%3Dhttps%253A%252F%252Fwww.daum.net%252F'\n",
    "driver.get(url)\n",
    "\n",
    "kakao_id = input('카카오 아이디를 입력하세요 : ')\n",
    "kakao_pw = input('카카오 비밀번호를 입력하세요 : ')\n",
    "\n",
    "# 다음 보안에서 자바 스크립트를 통해서 보안을 뚫습니다. / 해킹이 될 수 있는 요소\n",
    "# 이 코드가 동작하는 조건은 리캡차가 동작하지 않는 홈페이지로 올라 왔을 때는 이 코드로 됨\n",
    "\n",
    "driver.execute_script(\"document.getElementsByName('email')[0].value=\\'\"+kakao_id+\"\\'\")\n",
    "driver.execute_script(\"document.getElementsByName('password')[0].value=\\'\"+kakao_pw+\"\\'\")\n",
    "\n",
    "driver.find_element_by_xpath('//*[@id=\"login-form\"]/fieldset/div[8]/button[1]').click()"
   ]
  },
  {
   "cell_type": "markdown",
   "metadata": {},
   "source": [
    "### Anothder Code(멜론 팝업창 안띄우고 차트 추출하기)"
   ]
  },
  {
   "cell_type": "code",
   "execution_count": null,
   "metadata": {},
   "outputs": [],
   "source": [
    "from selenium import webdriver\n",
    "\n",
    "options = webdriver.ChromeOptions()\n",
    "options.add_argument('headless')\n",
    "options.add_argument('window-size=1920x1080')\n",
    "options.add_argument(\"disable-gpu\")\n",
    "# 혹은 options.add_argument(\"--disable-gpu\")\n",
    "\n",
    "driver = webdriver.Chrome('c:/chromedriver.exe', options=options)\n",
    "\n",
    "url = 'https://www.melon.com/chart/day/index.htm'\n",
    "driver.get(url)          \n",
    "                                \n",
    "songs = driver.find_elements_by_css_selector(\"#lst50,#lst100\")     # 멜론 사이트 개편으로 코드 수정(updated 2020.07.13)\n",
    "\n",
    "for song in songs:                                        \n",
    "    title = song.find_elements_by_css_selector('div.ellipsis.rank01 > span > a')[0].text\n",
    "    singer = song.find_elements_by_css_selector('div.ellipsis.rank02 > a')[0].text  \n",
    "    print(title, singer, sep = ' | ')\n",
    "    \n",
    "driver.close()"
   ]
  }
 ],
 "metadata": {
  "kernelspec": {
   "display_name": "Python 3",
   "language": "python",
   "name": "python3"
  },
  "language_info": {
   "codemirror_mode": {
    "name": "ipython",
    "version": 3
   },
   "file_extension": ".py",
   "mimetype": "text/x-python",
   "name": "python",
   "nbconvert_exporter": "python",
   "pygments_lexer": "ipython3",
   "version": "3.8.3"
  }
 },
 "nbformat": 4,
 "nbformat_minor": 4
}
