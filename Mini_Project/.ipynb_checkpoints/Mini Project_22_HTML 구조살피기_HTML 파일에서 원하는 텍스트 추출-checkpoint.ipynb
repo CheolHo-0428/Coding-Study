{
 "cells": [
  {
   "cell_type": "markdown",
   "metadata": {},
   "source": [
    "### 1. 바나나 뽑아보세요\n",
    "### 2. 파인애플 뽑아보세요\n",
    "### 3. 3000원 뽑아보세요\n",
    "### 4. a href 속성 뽑아보세요"
   ]
  },
  {
   "cell_type": "markdown",
   "metadata": {},
   "source": [
    "### My Code"
   ]
  },
  {
   "cell_type": "code",
   "execution_count": 23,
   "metadata": {},
   "outputs": [
    {
     "name": "stdout",
     "output_type": "stream",
     "text": [
      "바나나\n",
      "파인애플\n",
      "3000원\n",
      "홈페이지\n"
     ]
    }
   ],
   "source": [
    "from bs4 import BeautifulSoup\n",
    "\n",
    "A = \"\"\"\n",
    "    <html>\n",
    "        <head>\n",
    "        </head>\n",
    "        <body>\n",
    "            <h1>우리동네시장</h1>\n",
    "                <div class = 'sale'>\n",
    "                    <p id='fruits1' class='fruits'>\n",
    "                        <span class = 'name'>바나나</span>\n",
    "                        <span class = 'price'>3000원</span>\n",
    "                        <span class = 'inventory'>500개</span>\n",
    "                        <span class = 'store'>가나다상회</span>\n",
    "                        <a href = 'http://bit.ly/forPlaywithData' >홈페이지</a>\n",
    "                     </p>\n",
    "                </div>           \n",
    "                <div class = 'prepare'>\n",
    "                    <p id='fruits2' class='fruits'>\n",
    "                        <span class = 'name'>파인애플</span>\n",
    "\n",
    "                    </p>\n",
    "                </div>\n",
    "        </body>\n",
    "    </html>\n",
    "\"\"\"\n",
    "\n",
    "soup = BeautifulSoup(A, 'lxml')\n",
    "\n",
    "B = soup.find_all('span', {'class':'name'})\n",
    "C = soup.find_all('span', {'class':'price'})\n",
    "D = soup.find_all('a')\n",
    "\n",
    "for E in B :\n",
    "    print(E.get_text())\n",
    "    \n",
    "for F in C :\n",
    "    print(F.get_text())\n",
    "    \n",
    "for G in D :\n",
    "    print(G.get_text())"
   ]
  },
  {
   "cell_type": "markdown",
   "metadata": {},
   "source": [
    "### Another Code"
   ]
  },
  {
   "cell_type": "code",
   "execution_count": 24,
   "metadata": {},
   "outputs": [],
   "source": [
    "from bs4 import BeautifulSoup\n",
    "\n",
    "html1 = \"\"\"\n",
    "<!DOCTYPE html>\n",
    "<html>\n",
    "    <head>\n",
    "    </head>\n",
    "    <body>\n",
    "        <h1> 우리동네시장</h1>\n",
    "            <div class = 'sale'>\n",
    "                <p id='fruits1' class='fruits'>\n",
    "                    <span class = 'name'> 바나나 </span>\n",
    "                    <span class = 'price'> 3000원 </span>\n",
    "                    <span class = 'inventory'> 500개 </span>\n",
    "                    <span class = 'store'> 가나다상회 </span>\n",
    "                    <a href = 'http://bit.ly/forPlaywithData' > 홈페이지 </a>\n",
    "                </p>\n",
    "            </div>\n",
    "            <div class = 'prepare'>\n",
    "                <p id='fruits2' class='fruits'>\n",
    "                    <span class ='name'> 파인애플 </span>\n",
    "                </p>\n",
    "            </div>\n",
    "    </body>\n",
    "</html> \"\"\""
   ]
  },
  {
   "cell_type": "code",
   "execution_count": 25,
   "metadata": {},
   "outputs": [
    {
     "name": "stdout",
     "output_type": "stream",
     "text": [
      "[<span class=\"name\"> 바나나 </span>, <span class=\"name\"> 파인애플 </span>]\n",
      " 바나나 \n",
      " 파인애플 \n",
      " 3000원 \n",
      "http://bit.ly/forPlaywithData\n"
     ]
    }
   ],
   "source": [
    "soup = BeautifulSoup(html1, \"lxml\")\n",
    "\n",
    "fruit = soup.find_all('span', {\"class\":\"name\"})\n",
    "print(fruit)\n",
    "\n",
    "banana = fruit[0].get_text()\n",
    "print(banana)\n",
    "\n",
    "pineapple = fruit[1].get_text()\n",
    "print(pineapple)\n",
    "\n",
    "price_3000 = soup.find('span', {\"class\":\"price\"}).get_text()\n",
    "print(price_3000)\n",
    "\n",
    "link = soup.find(\"a\").get(\"href\")\n",
    "print(link)"
   ]
  },
  {
   "cell_type": "markdown",
   "metadata": {},
   "source": [
    "### Another Code"
   ]
  },
  {
   "cell_type": "code",
   "execution_count": 26,
   "metadata": {},
   "outputs": [
    {
     "name": "stdout",
     "output_type": "stream",
     "text": [
      " 바나나 \n",
      " 파인애플 \n",
      " 3000원 \n",
      "http://bit.ly/forPlaywithData\n"
     ]
    }
   ],
   "source": [
    "soup = BeautifulSoup(html1, \"lxml\")\n",
    "\n",
    "bananas = soup.select(\"div.sale span.name\")\n",
    "for banana in bananas:\n",
    "    print(banana.text)\n",
    "    \n",
    "pineapples = soup.select(\"div.prepare span.name\")\n",
    "for pineapple in pineapples:\n",
    "    print(pineapple.text)\n",
    "    \n",
    "price_3000s = soup.select(\"div.sale span.price\")\n",
    "for price_3000 in price_3000s:\n",
    "    print(price_3000.text)\n",
    "    \n",
    "link = soup.select(\"a\")\n",
    "link_url = link[0].get(\"href\")\n",
    "print(link_url)"
   ]
  },
  {
   "cell_type": "code",
   "execution_count": null,
   "metadata": {},
   "outputs": [],
   "source": []
  }
 ],
 "metadata": {
  "kernelspec": {
   "display_name": "Python 3",
   "language": "python",
   "name": "python3"
  },
  "language_info": {
   "codemirror_mode": {
    "name": "ipython",
    "version": 3
   },
   "file_extension": ".py",
   "mimetype": "text/x-python",
   "name": "python",
   "nbconvert_exporter": "python",
   "pygments_lexer": "ipython3",
   "version": "3.8.3"
  }
 },
 "nbformat": 4,
 "nbformat_minor": 4
}
