{
 "cells": [
  {
   "cell_type": "code",
   "execution_count": 36,
   "metadata": {},
   "outputs": [],
   "source": [
    "class Bicycle() :\n",
    "    \n",
    "    def move(self, speed):\n",
    "        print(f'자전거: 시속 {speed}킬로미터로 전진')\n",
    "    \n",
    "    \n",
    "    def turn(self, direction):\n",
    "        print(f'자전거: {direction}회전')\n",
    "          \n",
    "    def stop(self):\n",
    "        print(f'자전거({self.wheel_size}, {self.color}): 정지')"
   ]
  },
  {
   "cell_type": "code",
   "execution_count": 37,
   "metadata": {},
   "outputs": [],
   "source": [
    "by = Bicycle()"
   ]
  },
  {
   "cell_type": "code",
   "execution_count": 38,
   "metadata": {},
   "outputs": [],
   "source": [
    "by.wheel_size = 26\n",
    "by.color = 'black'"
   ]
  },
  {
   "cell_type": "code",
   "execution_count": 39,
   "metadata": {},
   "outputs": [
    {
     "name": "stdout",
     "output_type": "stream",
     "text": [
      "자전거: 시속 30킬로미터로 전진\n",
      "자전거: 왼쪽회전\n",
      "자전거(26, black): 정지\n"
     ]
    }
   ],
   "source": [
    "by.move(30)\n",
    "by.turn('왼쪽')\n",
    "by.stop()"
   ]
  },
  {
   "cell_type": "code",
   "execution_count": 41,
   "metadata": {},
   "outputs": [],
   "source": [
    "class Bicycle() :\n",
    "    \n",
    "    def __init__(self, wheel_size, color):\n",
    "        self.wheel_size = wheel_size\n",
    "        self.color = color\n",
    "    \n",
    "    def move(self, speed):\n",
    "        print(f'자전거: 시속 {speed}킬로미터로 전진')\n",
    "    \n",
    "    \n",
    "    def turn(self, direction):\n",
    "        print(f'자전거: {direction}회전')\n",
    "          \n",
    "    def stop(self):\n",
    "        print(f'자전거({self.wheel_size}, {self.color}): 정지')"
   ]
  },
  {
   "cell_type": "code",
   "execution_count": 43,
   "metadata": {},
   "outputs": [
    {
     "name": "stdout",
     "output_type": "stream",
     "text": [
      "자전거: 시속 50킬로미터로 전진\n",
      "자전거: 우회전\n",
      "자전거(30, blue): 정지\n"
     ]
    }
   ],
   "source": [
    "by = Bicycle(30, 'blue')\n",
    "\n",
    "by.move(50)\n",
    "by.turn('우')\n",
    "by.stop()"
   ]
  },
  {
   "cell_type": "code",
   "execution_count": 51,
   "metadata": {},
   "outputs": [],
   "source": [
    "class Car():\n",
    "    instance_count = 0\n",
    "    \n",
    "    def __init__(self, size, color):\n",
    "        self.size = size\n",
    "        self.color = color\n",
    "        Car.instance_count = Car.instance_count + 1    \n",
    "#         print(f'자동차 수: {Car.instance_count}')\n",
    "        \n",
    "    def move(self):\n",
    "        print(f'자동차크기는 {self.size}이고, 색깔은 {self.color} 이고, 누적 자동차 수는 {Car.instance_count} 입니다.')"
   ]
  },
  {
   "cell_type": "code",
   "execution_count": 52,
   "metadata": {},
   "outputs": [],
   "source": [
    "ca_1 = Car('small', 'red')"
   ]
  },
  {
   "cell_type": "code",
   "execution_count": 53,
   "metadata": {},
   "outputs": [
    {
     "name": "stdout",
     "output_type": "stream",
     "text": [
      "자동차크기는 small이고, 색깔은 red 이고, 누적 자동차 수는 1 입니다.\n"
     ]
    }
   ],
   "source": [
    "ca_1.move()"
   ]
  },
  {
   "cell_type": "code",
   "execution_count": 54,
   "metadata": {},
   "outputs": [
    {
     "name": "stdout",
     "output_type": "stream",
     "text": [
      "자동차크기는 big이고, 색깔은 blue 이고, 누적 자동차 수는 2 입니다.\n"
     ]
    }
   ],
   "source": [
    "ca_2 = Car('big', 'blue') \n",
    "\n",
    "ca_2.move()"
   ]
  },
  {
   "cell_type": "code",
   "execution_count": null,
   "metadata": {},
   "outputs": [],
   "source": []
  }
 ],
 "metadata": {
  "kernelspec": {
   "display_name": "Python 3",
   "language": "python",
   "name": "python3"
  },
  "language_info": {
   "codemirror_mode": {
    "name": "ipython",
    "version": 3
   },
   "file_extension": ".py",
   "mimetype": "text/x-python",
   "name": "python",
   "nbconvert_exporter": "python",
   "pygments_lexer": "ipython3",
   "version": "3.8.3"
  }
 },
 "nbformat": 4,
 "nbformat_minor": 4
}
