{
 "cells": [
  {
   "cell_type": "markdown",
   "metadata": {},
   "source": [
    "### 2.2 웹 크롤링 맛보기"
   ]
  },
  {
   "cell_type": "markdown",
   "metadata": {},
   "source": [
    "#### 2.2.1 selenium과 크롬드라이버 설치"
   ]
  },
  {
   "cell_type": "markdown",
   "metadata": {},
   "source": [
    "#### 2.2.2 크롬드라이버 활용하기"
   ]
  },
  {
   "cell_type": "code",
   "execution_count": 38,
   "metadata": {},
   "outputs": [],
   "source": [
    "from selenium import webdriver"
   ]
  },
  {
   "cell_type": "code",
   "execution_count": 3,
   "metadata": {},
   "outputs": [
    {
     "name": "stdout",
     "output_type": "stream",
     "text": [
      "Requirement already satisfied: selenium in c:\\programdata\\anaconda3\\lib\\site-packages (3.141.0)\n",
      "Requirement already satisfied: urllib3 in c:\\programdata\\anaconda3\\lib\\site-packages (from selenium) (1.25.9)\n"
     ]
    }
   ],
   "source": [
    "!pip install selenium"
   ]
  },
  {
   "cell_type": "code",
   "execution_count": 39,
   "metadata": {},
   "outputs": [],
   "source": [
    "from selenium import webdriver\n",
    "driver = webdriver.Chrome('c:/chromedriver.exe')"
   ]
  },
  {
   "cell_type": "markdown",
   "metadata": {},
   "source": [
    "#### 2.2.3 웹 페이지 접속"
   ]
  },
  {
   "cell_type": "code",
   "execution_count": 5,
   "metadata": {},
   "outputs": [],
   "source": [
    "from selenium import webdriver\n",
    "\n",
    "driver = webdriver.Chrome('c:/chromedriver.exe')\n",
    "\n",
    "url='https://www.naver.com'\n",
    "\n",
    "driver.get(url)"
   ]
  },
  {
   "cell_type": "code",
   "execution_count": null,
   "metadata": {},
   "outputs": [],
   "source": [
    "from selenium import webdriver\n",
    "\n",
    "driver = webdriver.Chrome('c:/chromedriver.exe')\n",
    "\n",
    "url='https://www.naver.com'\n",
    "\n",
    "driver.implicitly_wait(3)     # 3초이내에 데이터가 들어온다.\n",
    "\n",
    "driver.get(url)"
   ]
  },
  {
   "cell_type": "code",
   "execution_count": 6,
   "metadata": {},
   "outputs": [],
   "source": [
    "from selenium import webdriver\n",
    "import time\n",
    "\n",
    "driver = webdriver.Chrome('c:/chromedriver.exe')\n",
    "\n",
    "url='https://www.naver.com'\n",
    "\n",
    "time.sleep(3)  # 시스템을 3초동안 홀딩 시켜놓을때 (데이터를 불러올때 혼란이 있을수 있어 3초동안 cpu를 쉬게해준다.)\n",
    "\n",
    "driver.get(url)"
   ]
  },
  {
   "cell_type": "markdown",
   "metadata": {},
   "source": [
    "#### 2.2.4 웹 페이지(HTML) 다운로드"
   ]
  },
  {
   "cell_type": "code",
   "execution_count": 7,
   "metadata": {},
   "outputs": [],
   "source": [
    "from selenium import webdriver\n",
    "\n",
    "driver = webdriver.Chrome('c:/chromedriver.exe')\n",
    "\n",
    "url='https://www.naver.com'\n",
    "\n",
    "driver.get(url)\n",
    "\n",
    "html = driver.page_source"
   ]
  },
  {
   "cell_type": "code",
   "execution_count": null,
   "metadata": {},
   "outputs": [],
   "source": [
    "print(html)"
   ]
  },
  {
   "cell_type": "markdown",
   "metadata": {},
   "source": [
    "#### 2.2.5 HTML 구조 살펴보기"
   ]
  },
  {
   "cell_type": "code",
   "execution_count": 47,
   "metadata": {},
   "outputs": [],
   "source": [
    "html = \"\"\"\n",
    "<html>\n",
    "    <head>\n",
    "    </head>\n",
    "    <body>\n",
    "        <h1>우리동네시장</h1>\n",
    "            <div class = 'sale'>\n",
    "                <p id='fruits1' class='fruits'>\n",
    "                    <span class = 'name'>바나나</span>\n",
    "                    <span class = 'price'>3000원</span>\n",
    "                    <span class = 'inventory'>500개</span>\n",
    "                    <span class = 'store'>가나다상회</span>\n",
    "                    <a hrdf = 'http://bit.ly/forPlaywithData' > 홈페이지</a>\n",
    "                 </p>\n",
    "            </div>           \n",
    "            <div class = 'prepare'>\n",
    "                <p id='fruits2' class='fruits'>\n",
    "                    <span class = 'name'>파인애플</span>\n",
    "\n",
    "                </p>\n",
    "            </div>\n",
    "    </body>\n",
    "</html>\n",
    "\"\"\""
   ]
  },
  {
   "cell_type": "code",
   "execution_count": null,
   "metadata": {},
   "outputs": [],
   "source": []
  },
  {
   "cell_type": "markdown",
   "metadata": {},
   "source": [
    "#### 2.2.6 크롬 브라우저에서 웹 페이지의 HTML 살펴보기"
   ]
  },
  {
   "cell_type": "code",
   "execution_count": 57,
   "metadata": {},
   "outputs": [],
   "source": [
    "from bs4 import BeautifulSoup\n",
    "\n",
    "soup = BeautifulSoup(html, 'html.parser')"
   ]
  },
  {
   "cell_type": "code",
   "execution_count": 59,
   "metadata": {},
   "outputs": [],
   "source": [
    "tags_span = soup.select('span')\n",
    "tags_p = soup.select('p')"
   ]
  },
  {
   "cell_type": "code",
   "execution_count": 60,
   "metadata": {},
   "outputs": [],
   "source": [
    "ids_fruits1 = soup.select('#fruits1')\n",
    "class_price = soup.select('.price')\n",
    "tags_span_classs_price = soup.select('span.price')"
   ]
  },
  {
   "cell_type": "code",
   "execution_count": 61,
   "metadata": {},
   "outputs": [
    {
     "name": "stdout",
     "output_type": "stream",
     "text": [
      "[<span class=\"name\">바나나</span>, <span class=\"name\">파인애플</span>]\n"
     ]
    }
   ],
   "source": [
    "tags_name = soup.select('span.name')\n",
    "print(tags_name)"
   ]
  },
  {
   "cell_type": "code",
   "execution_count": 62,
   "metadata": {},
   "outputs": [
    {
     "name": "stdout",
     "output_type": "stream",
     "text": [
      "[<span class=\"name\">바나나</span>]\n"
     ]
    }
   ],
   "source": [
    "tags_banana1 = soup.select('#fruits1 > span.name')\n",
    "print(tags_banana1)"
   ]
  },
  {
   "cell_type": "code",
   "execution_count": 63,
   "metadata": {},
   "outputs": [
    {
     "name": "stdout",
     "output_type": "stream",
     "text": [
      "[<span class=\"name\">바나나</span>]\n",
      "[<span class=\"name\">바나나</span>]\n"
     ]
    }
   ],
   "source": [
    "tags_banana2 = soup.select('div.sale > p#fruits1 > span.name')\n",
    "tags_banana3 = soup.select('div.sale span.name')\n",
    "print(tags_banana2)\n",
    "print(tags_banana3)"
   ]
  },
  {
   "cell_type": "code",
   "execution_count": 64,
   "metadata": {},
   "outputs": [
    {
     "name": "stdout",
     "output_type": "stream",
     "text": [
      "<span class=\"name\">바나나</span>\n"
     ]
    }
   ],
   "source": [
    "tags = soup.select('span.name')\n",
    "tag_1 = tags[0]\n",
    "print(tag_1)"
   ]
  },
  {
   "cell_type": "code",
   "execution_count": 65,
   "metadata": {},
   "outputs": [
    {
     "name": "stdout",
     "output_type": "stream",
     "text": [
      "<span class=\"name\">바나나</span>\n",
      "<span class=\"name\">파인애플</span>\n"
     ]
    }
   ],
   "source": [
    "tags = soup.select('span.name')\n",
    "for tag in tags :   # 반복문으로 태그 그룹에서 각 태그를 서 ㄴ택해 활용\n",
    "    print(tag)"
   ]
  },
  {
   "cell_type": "markdown",
   "metadata": {},
   "source": [
    "#### 2.2.11 정보 가져오기 2 - 선택한 태그에서 정보 가져오기"
   ]
  },
  {
   "cell_type": "code",
   "execution_count": 66,
   "metadata": {},
   "outputs": [
    {
     "ename": "NameError",
     "evalue": "name 'TAG' is not defined",
     "output_type": "error",
     "traceback": [
      "\u001b[1;31m---------------------------------------------------------------------------\u001b[0m",
      "\u001b[1;31mNameError\u001b[0m                                 Traceback (most recent call last)",
      "\u001b[1;32m<ipython-input-66-263a05cf80b0>\u001b[0m in \u001b[0;36m<module>\u001b[1;34m\u001b[0m\n\u001b[1;32m----> 1\u001b[1;33m \u001b[0mcontent\u001b[0m \u001b[1;33m=\u001b[0m \u001b[0mTAG\u001b[0m\u001b[1;33m.\u001b[0m\u001b[0mtext\u001b[0m    \u001b[1;31m# 태그에서 화면에 보이는 텍스트 부분만 가져오기\u001b[0m\u001b[1;33m\u001b[0m\u001b[1;33m\u001b[0m\u001b[0m\n\u001b[0m\u001b[0;32m      2\u001b[0m \u001b[0mattribute\u001b[0m \u001b[1;33m=\u001b[0m \u001b[0mTAG\u001b[0m\u001b[1;33m[\u001b[0m\u001b[1;34m'속성명'\u001b[0m\u001b[1;33m]\u001b[0m\u001b[1;33m\u001b[0m\u001b[1;33m\u001b[0m\u001b[0m\n",
      "\u001b[1;31mNameError\u001b[0m: name 'TAG' is not defined"
     ]
    }
   ],
   "source": [
    "content = TAG.text    # 태그에서 화면에 보이는 텍스트 부분만 가져오기\n",
    "attribute = TAG['속성명']"
   ]
  },
  {
   "cell_type": "code",
   "execution_count": 67,
   "metadata": {},
   "outputs": [
    {
     "name": "stdout",
     "output_type": "stream",
     "text": [
      " 홈페이지\n"
     ]
    },
    {
     "ename": "KeyError",
     "evalue": "'href'",
     "output_type": "error",
     "traceback": [
      "\u001b[1;31m---------------------------------------------------------------------------\u001b[0m",
      "\u001b[1;31mKeyError\u001b[0m                                  Traceback (most recent call last)",
      "\u001b[1;32m<ipython-input-67-d61ef80584d0>\u001b[0m in \u001b[0;36m<module>\u001b[1;34m\u001b[0m\n\u001b[0;32m      3\u001b[0m \u001b[0mcontent\u001b[0m \u001b[1;33m=\u001b[0m \u001b[0mtag\u001b[0m\u001b[1;33m.\u001b[0m\u001b[0mtext\u001b[0m\u001b[1;33m\u001b[0m\u001b[1;33m\u001b[0m\u001b[0m\n\u001b[0;32m      4\u001b[0m \u001b[0mprint\u001b[0m\u001b[1;33m(\u001b[0m\u001b[0mcontent\u001b[0m\u001b[1;33m)\u001b[0m\u001b[1;33m\u001b[0m\u001b[1;33m\u001b[0m\u001b[0m\n\u001b[1;32m----> 5\u001b[1;33m \u001b[0mlink\u001b[0m \u001b[1;33m=\u001b[0m \u001b[0mtag\u001b[0m\u001b[1;33m[\u001b[0m\u001b[1;34m'href'\u001b[0m\u001b[1;33m]\u001b[0m\u001b[1;33m\u001b[0m\u001b[1;33m\u001b[0m\u001b[0m\n\u001b[0m\u001b[0;32m      6\u001b[0m \u001b[0mprint\u001b[0m\u001b[1;33m(\u001b[0m\u001b[0mlink\u001b[0m\u001b[1;33m)\u001b[0m\u001b[1;33m\u001b[0m\u001b[1;33m\u001b[0m\u001b[0m\n",
      "\u001b[1;32mC:\\ProgramData\\Anaconda3\\lib\\site-packages\\bs4\\element.py\u001b[0m in \u001b[0;36m__getitem__\u001b[1;34m(self, key)\u001b[0m\n\u001b[0;32m   1399\u001b[0m         \"\"\"tag[key] returns the value of the 'key' attribute for the Tag,\n\u001b[0;32m   1400\u001b[0m         and throws an exception if it's not there.\"\"\"\n\u001b[1;32m-> 1401\u001b[1;33m         \u001b[1;32mreturn\u001b[0m \u001b[0mself\u001b[0m\u001b[1;33m.\u001b[0m\u001b[0mattrs\u001b[0m\u001b[1;33m[\u001b[0m\u001b[0mkey\u001b[0m\u001b[1;33m]\u001b[0m\u001b[1;33m\u001b[0m\u001b[1;33m\u001b[0m\u001b[0m\n\u001b[0m\u001b[0;32m   1402\u001b[0m \u001b[1;33m\u001b[0m\u001b[0m\n\u001b[0;32m   1403\u001b[0m     \u001b[1;32mdef\u001b[0m \u001b[0m__iter__\u001b[0m\u001b[1;33m(\u001b[0m\u001b[0mself\u001b[0m\u001b[1;33m)\u001b[0m\u001b[1;33m:\u001b[0m\u001b[1;33m\u001b[0m\u001b[1;33m\u001b[0m\u001b[0m\n",
      "\u001b[1;31mKeyError\u001b[0m: 'href'"
     ]
    }
   ],
   "source": [
    "tags = soup.select('a')\n",
    "tag = tags[0]\n",
    "content = tag.text\n",
    "print(content)\n",
    "link = tag['href']\n",
    "print(link)"
   ]
  },
  {
   "cell_type": "markdown",
   "metadata": {},
   "source": [
    "#### 2.2.12 멜론 노래 순위 정보 크롤링 1"
   ]
  },
  {
   "cell_type": "code",
   "execution_count": 6,
   "metadata": {},
   "outputs": [],
   "source": [
    "from selenium import webdriver\n",
    "driver = webdriver.Chrome('c:/chromedriver.exe')"
   ]
  },
  {
   "cell_type": "code",
   "execution_count": 7,
   "metadata": {},
   "outputs": [],
   "source": [
    "url = 'https://www.melon.com/chart/day/index.htm'\n",
    "\n",
    "driver.implicitly_wait(3)\n",
    "\n",
    "driver.get(url)"
   ]
  },
  {
   "cell_type": "code",
   "execution_count": 8,
   "metadata": {},
   "outputs": [],
   "source": [
    "from bs4 import BeautifulSoup\n",
    "html = driver.page_source\n",
    "soup = BeautifulSoup(html, 'html.parser')"
   ]
  },
  {
   "cell_type": "code",
   "execution_count": 12,
   "metadata": {},
   "outputs": [
    {
     "name": "stdout",
     "output_type": "stream",
     "text": [
      "50\n",
      "<tr class=\"lst50\" data-song-no=\"32872978\" id=\"lst50\">\n",
      "<td><div class=\"wrap t_right\"><input class=\"input_check\" name=\"input_check\" title=\"Dynamite 곡 선택\" type=\"checkbox\" value=\"32872978\"/></div></td>\n",
      "<td><div class=\"wrap t_center\"><span class=\"rank\">1</span><span class=\"none\">위</span></div></td>\n",
      "<!-- 차트순위 추가 -->\n",
      "<td><div class=\"wrap\">\n",
      "<span class=\"rank_wrap\" title=\"순위 동일\">\n",
      "<span class=\"bullet_icons rank_static\"><span class=\"none\">순위 동일</span></span>\n",
      "<span class=\"none\">0</span>\n",
      "</span>\n",
      "</div></td>\n",
      "<td><div class=\"wrap\">\n",
      "<a class=\"image_typeAll\" href=\"javascript:melon.link.goAlbumDetail('10479150');\" title=\"Dynamite (DayTime Version)\">\n",
      "<img alt=\"Dynamite (DayTime Version) - 페이지 이동\" height=\"60\" onerror=\"WEBPOCIMG.defaultAlbumImg(this);\" src=\"https://cdnimg.melon.co.kr/cm2/album/images/104/79/150/10479150_20200918102847_500.jpg/melon/resize/120/quality/80/optimize\" width=\"60\"/>\n",
      "<span class=\"bg_album_frame\"></span>\n",
      "</a>\n",
      "</div></td>\n",
      "<td><div class=\"wrap\">\n",
      "<a class=\"btn button_icons type03 song_info\" href=\"javascript:melon.link.goSongDetail('32872978');\" title=\"Dynamite 곡정보\"><span class=\"none\">곡정보</span></a>\n",
      "</div></td>\n",
      "<td><div class=\"wrap\">\n",
      "<div class=\"wrap_song_info\">\n",
      "<div class=\"ellipsis rank01\"><span>\n",
      "<a href=\"javascript:melon.play.playSong('19041201',32872978);\" title=\"Dynamite 재생\">Dynamite</a>\n",
      "</span></div><br/>\n",
      "<div class=\"ellipsis rank02\">\n",
      "<a href=\"javascript:melon.link.goArtistDetail('672375');\" title=\"방탄소년단 - 페이지 이동\">방탄소년단</a><span class=\"checkEllipsis\" style=\"display: none;\"><a href=\"javascript:melon.link.goArtistDetail('672375');\" title=\"방탄소년단 - 페이지 이동\">방탄소년단</a></span>\n",
      "</div>\n",
      "</div>\n",
      "</div></td>\n",
      "<td><div class=\"wrap\">\n",
      "<div class=\"wrap_song_info\">\n",
      "<div class=\"ellipsis rank03\">\n",
      "<a href=\"javascript:melon.link.goAlbumDetail('10479150');\" title=\"Dynamite (DayTime Version) - 페이지 이동\">Dynamite (DayTime Version)</a>\n",
      "</div>\n",
      "</div>\n",
      "</div></td>\n",
      "<td><div class=\"wrap\">\n",
      "<button class=\"button_etc like\" data-song-menuid=\"19041201\" data-song-no=\"32872978\" title=\"Dynamite 좋아요\" type=\"button\"><span class=\"odd_span\">좋아요</span>\n",
      "<span class=\"cnt\">\n",
      "<span class=\"none\">총건수</span>\n",
      "334,756</span></button>\n",
      "</div></td>\n",
      "<td><div class=\"wrap t_center\">\n",
      "<button class=\"button_icons play\" onclick=\"melon.play.playSong('19041201',32872978);\" title=\"듣기\" type=\"button\"><span class=\"none\">듣기</span></button>\n",
      "</div></td>\n",
      "<td><div class=\"wrap t_center\">\n",
      "<button class=\"button_icons scrap\" onclick=\"melon.play.addPlayList('32872978');\" title=\"담기\" type=\"button\"><span class=\"none\">담기</span></button>\n",
      "</div></td>\n",
      "<td><div class=\"wrap t_center\">\n",
      "<button class=\"button_icons download\" onclick=\"melon.buy.goBuyProduct('frm', '32872978', '3C0001', '','0', '19041201');\" title=\"다운로드\" type=\"button\"><span class=\"none\">다운로드</span></button>\n",
      "</div></td>\n",
      "<td><div class=\"wrap t_center\">\n",
      "<button class=\"button_icons video\" onclick=\"melon.link.goMvDetail('19041201', '32872978','song');\" title=\"뮤직비디오\" type=\"button\"><span class=\"none\">뮤직비디오</span></button>\n",
      "</div></td>\n",
      "</tr>\n"
     ]
    }
   ],
   "source": [
    "songs = soup.select('#lst50')\n",
    "print(len(songs))\n",
    "print(songs[0])"
   ]
  },
  {
   "cell_type": "code",
   "execution_count": 13,
   "metadata": {},
   "outputs": [],
   "source": [
    "song = songs[0]"
   ]
  },
  {
   "cell_type": "code",
   "execution_count": 14,
   "metadata": {},
   "outputs": [
    {
     "data": {
      "text/plain": [
       "6"
      ]
     },
     "execution_count": 14,
     "metadata": {},
     "output_type": "execute_result"
    }
   ],
   "source": [
    "title = song.select('a')\n",
    "len(title)"
   ]
  },
  {
   "cell_type": "code",
   "execution_count": 15,
   "metadata": {},
   "outputs": [
    {
     "data": {
      "text/plain": [
       "2"
      ]
     },
     "execution_count": 15,
     "metadata": {},
     "output_type": "execute_result"
    }
   ],
   "source": [
    "title = song.select('span > a')\n",
    "len(title)"
   ]
  },
  {
   "cell_type": "code",
   "execution_count": 16,
   "metadata": {},
   "outputs": [
    {
     "data": {
      "text/plain": [
       "1"
      ]
     },
     "execution_count": 16,
     "metadata": {},
     "output_type": "execute_result"
    }
   ],
   "source": [
    "title = song.select('div.ellipsis.rank01 > span > a')\n",
    "len(title)"
   ]
  },
  {
   "cell_type": "code",
   "execution_count": 17,
   "metadata": {},
   "outputs": [
    {
     "data": {
      "text/plain": [
       "'Dynamite'"
      ]
     },
     "execution_count": 17,
     "metadata": {},
     "output_type": "execute_result"
    }
   ],
   "source": [
    "title = song.select('div.ellipsis.rank01 > span > a')[0].text\n",
    "title"
   ]
  },
  {
   "cell_type": "code",
   "execution_count": 18,
   "metadata": {},
   "outputs": [
    {
     "data": {
      "text/plain": [
       "1"
      ]
     },
     "execution_count": 18,
     "metadata": {},
     "output_type": "execute_result"
    }
   ],
   "source": [
    "singer = song.select('div.ellipsis.rank02 > a')\n",
    "len(singer)"
   ]
  },
  {
   "cell_type": "code",
   "execution_count": 20,
   "metadata": {},
   "outputs": [
    {
     "data": {
      "text/plain": [
       "'방탄소년단'"
      ]
     },
     "execution_count": 20,
     "metadata": {},
     "output_type": "execute_result"
    }
   ],
   "source": [
    "singer = song.select('div.ellipsis.rank02 > a')[0].text\n",
    "singer"
   ]
  },
  {
   "cell_type": "code",
   "execution_count": 21,
   "metadata": {},
   "outputs": [
    {
     "name": "stdout",
     "output_type": "stream",
     "text": [
      "Dynamite|방탄소년단\n",
      "Lovesick Girls|BLACKPINK\n",
      "힘든 건 사랑이 아니다|임창정\n",
      "DON'T TOUCH ME|환불원정대\n",
      "취기를 빌려 (취향저격 그녀 X 산들)|산들\n",
      "잠이 오질 않네요|장범준\n",
      "오래된 노래|스탠딩 에그\n",
      "Savage Love (Laxed - Siren Beat) (BTS Remix)|Jawsh 685\n",
      "내 마음이 움찔했던 순간 (취향저격 그녀 X 규현)|규현 (KYUHYUN)\n",
      "When We Disco (Duet with 선미)|박진영\n",
      "딩가딩가 (Dingga)|마마무 (Mamamoo)\n",
      "눈누난나 (NUNU NANA)|제시 (Jessi)\n",
      "놓아줘 (with 태연)|Crush\n",
      "I CAN’T STOP ME|TWICE (트와이스)\n",
      "마리아 (Maria)|화사 (Hwa Sa)\n",
      "How You Like That|BLACKPINK\n",
      "에잇(Prod.&Feat. SUGA of BTS)|아이유\n",
      "흔들리는 꽃들 속에서 네 샴푸향이 느껴진거야|장범준\n",
      "Dolphin|오마이걸 (OH MY GIRL)\n",
      "아로하|조정석\n",
      "어떻게 지내 (Prod. By VAN.C)|오반\n",
      "늦은 밤 너의 집 앞 골목길에서|노을\n",
      "홀로|이하이\n",
      "Dancing Cartoon|볼빨간사춘기\n",
      "어떻게 이별까지 사랑하겠어, 널 사랑하는 거지|AKMU (악동뮤지션)\n",
      "Blueming|아이유\n",
      "다시 여기 바닷가|싹쓰리 (유두래곤, 린다G, 비룡)\n",
      "Downtown Baby|블루 (BLOO)\n",
      "Dance Monkey|Tones And I\n",
      "거짓말이라도 해서 널 보고싶어|백지영\n",
      "METEOR|창모 (CHANGMO)\n",
      "Memories|Maroon 5\n",
      "모든 날, 모든 순간 (Every day, Every Moment)|폴킴\n",
      "사랑은 지날수록 더욱 선명하게 남아|전상근\n",
      "서면역에서|순순희\n",
      "작은 것들을 위한 시 (Boy With Luv) (Feat. Halsey)|방탄소년단\n",
      "Bad Boy|청하\n",
      "살짝 설렜어 (Nonstop)|오마이걸 (OH MY GIRL)\n",
      "너도 아는|폴킴\n",
      "오늘도 빛나는 너에게 (To You My Light) (Feat.이라온)|마크툽 (MAKTUB)\n",
      "우리 왜 헤어져야 해|신예영\n",
      "2002|Anne-Marie\n",
      "사랑하게 될 줄 알았어|전미도\n",
      "마음을 드려요|아이유\n",
      "사랑 못해, 남들 쉽게 다 하는 거|먼데이 키즈 (Monday Kiz)\n",
      "처음처럼|엠씨더맥스 (M.C the MAX)\n",
      "Don't Start Now|Dua Lipa\n",
      "Ice Cream (with Selena Gomez)|BLACKPINK\n",
      "나랑 같이 걸을래 (바른연애 길잡이 X 적재)|적재\n",
      "덤디덤디 (DUMDi DUMDi)|(여자)아이들\n"
     ]
    }
   ],
   "source": [
    "for song in songs :\n",
    "    title = song.select('div.ellipsis.rank01 > span > a')[0].text\n",
    "    singer = song.select('div.ellipsis.rank02 > a')[0].text\n",
    "    print(title, singer, sep = '|')"
   ]
  },
  {
   "cell_type": "code",
   "execution_count": 22,
   "metadata": {},
   "outputs": [
    {
     "name": "stdout",
     "output_type": "stream",
     "text": [
      "Dynamite|방탄소년단\n",
      "Lovesick Girls|BLACKPINK\n",
      "힘든 건 사랑이 아니다|임창정\n",
      "DON'T TOUCH ME|환불원정대\n",
      "취기를 빌려 (취향저격 그녀 X 산들)|산들\n",
      "잠이 오질 않네요|장범준\n",
      "오래된 노래|스탠딩 에그\n",
      "Savage Love (Laxed - Siren Beat) (BTS Remix)|Jawsh 685\n",
      "내 마음이 움찔했던 순간 (취향저격 그녀 X 규현)|규현 (KYUHYUN)\n",
      "When We Disco (Duet with 선미)|박진영\n",
      "딩가딩가 (Dingga)|마마무 (Mamamoo)\n",
      "눈누난나 (NUNU NANA)|제시 (Jessi)\n",
      "놓아줘 (with 태연)|Crush\n",
      "I CAN’T STOP ME|TWICE (트와이스)\n",
      "마리아 (Maria)|화사 (Hwa Sa)\n",
      "How You Like That|BLACKPINK\n",
      "에잇(Prod.&Feat. SUGA of BTS)|아이유\n",
      "흔들리는 꽃들 속에서 네 샴푸향이 느껴진거야|장범준\n",
      "Dolphin|오마이걸 (OH MY GIRL)\n",
      "아로하|조정석\n",
      "어떻게 지내 (Prod. By VAN.C)|오반\n",
      "늦은 밤 너의 집 앞 골목길에서|노을\n",
      "홀로|이하이\n",
      "Dancing Cartoon|볼빨간사춘기\n",
      "어떻게 이별까지 사랑하겠어, 널 사랑하는 거지|AKMU (악동뮤지션)\n",
      "Blueming|아이유\n",
      "다시 여기 바닷가|싹쓰리 (유두래곤, 린다G, 비룡)\n",
      "Downtown Baby|블루 (BLOO)\n",
      "Dance Monkey|Tones And I\n",
      "거짓말이라도 해서 널 보고싶어|백지영\n",
      "METEOR|창모 (CHANGMO)\n",
      "Memories|Maroon 5\n",
      "모든 날, 모든 순간 (Every day, Every Moment)|폴킴\n",
      "사랑은 지날수록 더욱 선명하게 남아|전상근\n",
      "서면역에서|순순희\n",
      "작은 것들을 위한 시 (Boy With Luv) (Feat. Halsey)|방탄소년단\n",
      "Bad Boy|청하\n",
      "살짝 설렜어 (Nonstop)|오마이걸 (OH MY GIRL)\n",
      "너도 아는|폴킴\n",
      "오늘도 빛나는 너에게 (To You My Light) (Feat.이라온)|마크툽 (MAKTUB)\n",
      "우리 왜 헤어져야 해|신예영\n",
      "2002|Anne-Marie\n",
      "사랑하게 될 줄 알았어|전미도\n",
      "마음을 드려요|아이유\n",
      "사랑 못해, 남들 쉽게 다 하는 거|먼데이 키즈 (Monday Kiz)\n",
      "처음처럼|엠씨더맥스 (M.C the MAX)\n",
      "Don't Start Now|Dua Lipa\n",
      "Ice Cream (with Selena Gomez)|BLACKPINK\n",
      "나랑 같이 걸을래 (바른연애 길잡이 X 적재)|적재\n",
      "덤디덤디 (DUMDi DUMDi)|(여자)아이들\n",
      "안녕|폴킴\n",
      "AYA|마마무 (Mamamoo)\n",
      "봄날|방탄소년단\n",
      "너의 곁에만 맴돌아|노을\n",
      "Pretty Savage|BLACKPINK\n",
      "Not Shy|ITZY (있지)\n",
      "HERO|임영웅\n",
      "Summer Hate (Feat. 비)|지코 (ZICO)\n",
      "이제 나만 믿어요|임영웅\n",
      "아무노래|지코 (ZICO)\n",
      "12:45 (Stripped)|Etham\n",
      "Love poem|아이유\n",
      "시작|가호 (Gaho)\n",
      "보라빛 밤 (pporappippam)|선미\n",
      "가을 타나 봐|바이브\n",
      "Maniac|Conan Gray\n",
      "행복해|송하예\n",
      "ON|방탄소년단\n",
      "너를 만나|폴킴\n",
      "Paris In The Rain|Lauv\n",
      "별을 담은 시 (Ode To The Stars)|마크툽 (MAKTUB)\n",
      "잠이 들어야 (Feat. 헤이즈)|로꼬\n",
      "좋은 사람 있으면 소개시켜줘|조이 (JOY)\n",
      "밤새 (취향저격 그녀 X 카더가든)|카더가든\n",
      "그때 그 아인|김필\n",
      "소확행|임창정\n",
      "취했나봐|황인욱\n",
      "Into the I-LAND|아이유\n",
      "Psycho|Red Velvet (레드벨벳)\n",
      "축하해|오반\n",
      "시든 꽃에 물을 주듯|HYNN (박혜원)\n",
      "도망가|MINO (송민호)\n",
      "bad guy|Billie Eilish\n",
      "Painkiller|Ruel\n",
      "사랑하고 싶지 않아 (바른연애 길잡이 X XIA (준수))|김준수\n",
      "나비와 고양이 (feat.백현 (BAEKHYUN))|볼빨간사춘기\n",
      "하루도 그대를 사랑하지 않은 적이 없었다|임창정\n",
      "첫 줄|신용재 (2F)\n",
      "사실 나는 (Feat.전건호)|경서예지\n",
      "Stuck with U|Ariana Grande\n",
      "빨간 립스틱|볼빨간사춘기\n",
      "밤하늘의 저 별처럼|헤이즈 (Heize)\n",
      "반만|진민호\n",
      "ALIEN|이수현\n",
      "화려하지 않은 고백|규현 (KYUHYUN)\n",
      "사랑이란 멜로는 없어|전상근\n",
      "행복하니|케이시 (Kassy)\n",
      "그 여름을 틀어줘|싹쓰리 (유두래곤, 린다G, 비룡)\n",
      "HIP|마마무 (Mamamoo)\n",
      "SOON (Feat. BewhY)|다이나믹 듀오\n"
     ]
    }
   ],
   "source": [
    "from selenium import webdriver\n",
    "driver = webdriver.Chrome('c:/chromedriver.exe')\n",
    "url = 'https://www.melon.com/chart/day/index.htm'\n",
    "driver.implicitly_wait(3)\n",
    "driver.get(url)\n",
    "\n",
    "html = driver.page_source\n",
    "soup = BeautifulSoup(html, 'html.parser')\n",
    "\n",
    "songs = soup.select('#lst50, #lst100')\n",
    "for song in songs :\n",
    "    title = song.select('div.ellipsis.rank01 > span > a')[0].text\n",
    "    singer = song.select('div.ellipsis.rank02 > a')[0].text\n",
    "    print(title, singer, sep = '|')"
   ]
  },
  {
   "cell_type": "markdown",
   "metadata": {},
   "source": [
    "### 2.2.13 selenium을 활용한 크롤링"
   ]
  },
  {
   "cell_type": "code",
   "execution_count": 23,
   "metadata": {},
   "outputs": [
    {
     "name": "stdout",
     "output_type": "stream",
     "text": [
      "Dynamite|방탄소년단\n",
      "Lovesick Girls|BLACKPINK\n",
      "힘든 건 사랑이 아니다|임창정\n",
      "DON'T TOUCH ME|환불원정대\n",
      "취기를 빌려 (취향저격 그녀 X 산들)|산들\n",
      "잠이 오질 않네요|장범준\n",
      "오래된 노래|스탠딩 에그\n",
      "Savage Love (Laxed - Siren Beat) (BTS Remix)|Jawsh 685\n",
      "내 마음이 움찔했던 순간 (취향저격 그녀 X 규현)|규현 (KYUHYUN)\n",
      "When We Disco (Duet with 선미)|박진영\n",
      "딩가딩가 (Dingga)|마마무 (Mamamoo)\n",
      "눈누난나 (NUNU NANA)|제시 (Jessi)\n",
      "놓아줘 (with 태연)|Crush\n",
      "I CAN’T STOP ME|TWICE (트와이스)\n",
      "마리아 (Maria)|화사 (Hwa Sa)\n",
      "How You Like That|BLACKPINK\n",
      "에잇(Prod.&Feat. SUGA of BTS)|아이유\n",
      "흔들리는 꽃들 속에서 네 샴푸향이 느껴진거야|장범준\n",
      "Dolphin|오마이걸 (OH MY GIRL)\n",
      "아로하|조정석\n",
      "어떻게 지내 (Prod. By VAN.C)|오반\n",
      "늦은 밤 너의 집 앞 골목길에서|노을\n",
      "홀로|이하이\n",
      "Dancing Cartoon|볼빨간사춘기\n",
      "어떻게 이별까지 사랑하겠어, 널 사랑하는 거지|AKMU (악동뮤지션)\n",
      "Blueming|아이유\n",
      "다시 여기 바닷가|싹쓰리 (유두래곤, 린다G, 비룡)\n",
      "Downtown Baby|블루 (BLOO)\n",
      "Dance Monkey|Tones And I\n",
      "거짓말이라도 해서 널 보고싶어|백지영\n",
      "METEOR|창모 (CHANGMO)\n",
      "Memories|Maroon 5\n",
      "모든 날, 모든 순간 (Every day, Every Moment)|폴킴\n",
      "사랑은 지날수록 더욱 선명하게 남아|전상근\n",
      "서면역에서|순순희\n",
      "작은 것들을 위한 시 (Boy With Luv) (Feat. Halsey)|방탄소년단\n",
      "Bad Boy|청하\n",
      "살짝 설렜어 (Nonstop)|오마이걸 (OH MY GIRL)\n",
      "너도 아는|폴킴\n",
      "오늘도 빛나는 너에게 (To You My Light) (Feat.이라온)|마크툽 (MAKTUB)\n",
      "우리 왜 헤어져야 해|신예영\n",
      "2002|Anne-Marie\n",
      "사랑하게 될 줄 알았어|전미도\n",
      "마음을 드려요|아이유\n",
      "사랑 못해, 남들 쉽게 다 하는 거|먼데이 키즈 (Monday Kiz)\n",
      "처음처럼|엠씨더맥스 (M.C the MAX)\n",
      "Don't Start Now|Dua Lipa\n",
      "Ice Cream (with Selena Gomez)|BLACKPINK\n",
      "나랑 같이 걸을래 (바른연애 길잡이 X 적재)|적재\n",
      "덤디덤디 (DUMDi DUMDi)|(여자)아이들\n",
      "안녕|폴킴\n",
      "AYA|마마무 (Mamamoo)\n",
      "봄날|방탄소년단\n",
      "너의 곁에만 맴돌아|노을\n",
      "Pretty Savage|BLACKPINK\n",
      "Not Shy|ITZY (있지)\n",
      "HERO|임영웅\n",
      "Summer Hate (Feat. 비)|지코 (ZICO)\n",
      "이제 나만 믿어요|임영웅\n",
      "아무노래|지코 (ZICO)\n",
      "12:45 (Stripped)|Etham\n",
      "Love poem|아이유\n",
      "시작|가호 (Gaho)\n",
      "보라빛 밤 (pporappippam)|선미\n",
      "가을 타나 봐|바이브\n",
      "Maniac|Conan Gray\n",
      "행복해|송하예\n",
      "ON|방탄소년단\n",
      "너를 만나|폴킴\n",
      "Paris In The Rain|Lauv\n",
      "별을 담은 시 (Ode To The Stars)|마크툽 (MAKTUB)\n",
      "잠이 들어야 (Feat. 헤이즈)|로꼬\n",
      "좋은 사람 있으면 소개시켜줘|조이 (JOY)\n",
      "밤새 (취향저격 그녀 X 카더가든)|카더가든\n",
      "그때 그 아인|김필\n",
      "소확행|임창정\n",
      "취했나봐|황인욱\n",
      "Into the I-LAND|아이유\n",
      "Psycho|Red Velvet (레드벨벳)\n",
      "축하해|오반\n",
      "시든 꽃에 물을 주듯|HYNN (박혜원)\n",
      "도망가|MINO (송민호)\n",
      "bad guy|Billie Eilish\n",
      "Painkiller|Ruel\n",
      "사랑하고 싶지 않아 (바른연애 길잡이 X XIA (준수))|김준수\n",
      "나비와 고양이 (feat.백현 (BAEKHYUN))|볼빨간사춘기\n",
      "하루도 그대를 사랑하지 않은 적이 없었다|임창정\n",
      "첫 줄|신용재 (2F)\n",
      "사실 나는 (Feat.전건호)|경서예지\n",
      "Stuck with U|Ariana Grande\n",
      "빨간 립스틱|볼빨간사춘기\n",
      "밤하늘의 저 별처럼|헤이즈 (Heize)\n",
      "반만|진민호\n",
      "ALIEN|이수현\n",
      "화려하지 않은 고백|규현 (KYUHYUN)\n",
      "사랑이란 멜로는 없어|전상근\n",
      "행복하니|케이시 (Kassy)\n",
      "그 여름을 틀어줘|싹쓰리 (유두래곤, 린다G, 비룡)\n",
      "HIP|마마무 (Mamamoo)\n",
      "SOON (Feat. BewhY)|다이나믹 듀오\n"
     ]
    }
   ],
   "source": [
    "driver = webdriver.Chrome('c:/chromedriver.exe')\n",
    "url = 'https://www.melon.com/chart/day/index.htm'\n",
    "driver.get(url)\n",
    "\n",
    "songs = driver.find_elements_by_css_selector('#lst50, #lst100')\n",
    "for song in songs :\n",
    "    title = song.find_elements_by_css_selector('div.ellipsis.rank01 > span > a')[0].text\n",
    "    singer = song.find_elements_by_css_selector('div.ellipsis.rank02 > a')[0].text\n",
    "    print(title, singer, sep = '|')"
   ]
  },
  {
   "cell_type": "code",
   "execution_count": null,
   "metadata": {},
   "outputs": [],
   "source": []
  }
 ],
 "metadata": {
  "kernelspec": {
   "display_name": "Python 3",
   "language": "python",
   "name": "python3"
  },
  "language_info": {
   "codemirror_mode": {
    "name": "ipython",
    "version": 3
   },
   "file_extension": ".py",
   "mimetype": "text/x-python",
   "name": "python",
   "nbconvert_exporter": "python",
   "pygments_lexer": "ipython3",
   "version": "3.8.3"
  }
 },
 "nbformat": 4,
 "nbformat_minor": 4
}
