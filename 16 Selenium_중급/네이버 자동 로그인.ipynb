{
 "cells": [
  {
   "cell_type": "code",
   "execution_count": 12,
   "metadata": {},
   "outputs": [],
   "source": [
    "from selenium import webdriver\n",
    "\n",
    "driver = webdriver.Chrome('c:/chromedriver.exe')\n",
    "url = 'https://www.naver.com/'\n",
    "driver.get(url)"
   ]
  },
  {
   "cell_type": "code",
   "execution_count": 13,
   "metadata": {},
   "outputs": [],
   "source": [
    "driver.find_element_by_xpath('//*[@id=\"account\"]/a').click()  #  네이버 로그인 자동 클릭\n",
    "\n",
    "# '//*[@id=\"account\"]' Xpath로 긁어와야 한다"
   ]
  },
  {
   "cell_type": "code",
   "execution_count": 14,
   "metadata": {},
   "outputs": [],
   "source": [
    "naver_id = 'againnr'\n",
    "naver_pw = ''\n",
    "\n",
    "# 일반적으로 사람이 작성하는 형태 / 네이버 보안에서 막힌다.\n",
    "# driver.find_element_by_id('id').send_keys(naver_id)\n",
    "# driver.find_element_by_id('pw').send_keys(naver_pw)\n",
    "\n",
    "# 네이버 보안에서 자바 스크림트를 통해서 보안을 뚫는다.\n",
    "driver.execute_script(\"document.getElementsByName('id')[0].value=\\'\"+naver_id+\"\\'\")   # 아이디 입력\n",
    "driver.execute_script(\"document.getElementsByName('pw')[0].value=\\'\"+naver_pw+\"\\'\")   # 비밀번호 입력"
   ]
  },
  {
   "cell_type": "code",
   "execution_count": 15,
   "metadata": {},
   "outputs": [],
   "source": [
    "driver.find_element_by_xpath('//*[@id=\"log.login\"]').click() # 로그인 창에서 로그인 버튼 자동클릭\n",
    "\n",
    "# //*[@id=\"log.login\"]' Xpath로 긁어와야 한다"
   ]
  },
  {
   "cell_type": "markdown",
   "metadata": {},
   "source": [
    "#### 위 내용을 정리하면"
   ]
  },
  {
   "cell_type": "code",
   "execution_count": null,
   "metadata": {},
   "outputs": [],
   "source": [
    "from selenium import webdriver\n",
    "\n",
    "driver = webdriver.Chrome('c:/chromedriver.exe')\n",
    "url = 'https://www.naver.com/'\n",
    "driver.get(url)\n",
    "\n",
    "driver.find_element_by_xpath('//*[@id=\"account\"]/a').click()  #  네이버 로그인 자동 클릭\n",
    "\n",
    "naver_id = 'againnr'\n",
    "naver_pw = ''\n",
    "\n",
    "\n",
    "# 네이버 보안에서 자바 스크림트를 통해서 보안을 뚫는다.\n",
    "driver.execute_script(\"document.getElementsByName('id')[0].value=\\'\"+naver_id+\"\\'\")   # 아이디 입력\n",
    "driver.execute_script(\"document.getElementsByName('pw')[0].value=\\'\"+naver_pw+\"\\'\")   # 비밀번호 입력\n",
    "\n",
    "driver.find_element_by_xpath('//*[@id=\"log.login\"]').click() # 로그인 창에서 로그인 버튼 자동클릭"
   ]
  },
  {
   "cell_type": "markdown",
   "metadata": {},
   "source": [
    "#### 네이버 자동로그인 다른 방식"
   ]
  },
  {
   "cell_type": "code",
   "execution_count": null,
   "metadata": {},
   "outputs": [],
   "source": [
    "from selenium import webdriver\n",
    "from selenium.webdriver.common.action_chains import ActionChains\n",
    "from selenium.webdriver.common.keys import Keys\n",
    "\n",
    "# from bs4 import BeautifulSoup\n",
    "import pyperclip \n",
    "import time\n",
    "\n",
    "def clipboard_input(self, user_xpath, user_input):\n",
    "    pyperclip.copy(user_input) # input을 클립보드로 복사\n",
    "    driver.find_element_by_xpath(user_xpath).click() # element focus 설정\n",
    "    ActionChains(driver).key_down(Keys.CONTROL).send_keys('v').key_up(Keys.CONTROL).perform() # ctrl + v 전달\n",
    "\n",
    "driver=webdriver.Chrome('C:\\chromedriver.exe')\n",
    "\n",
    "driver.get(\"https://nid.naver.com/nidlogin.login\")\n",
    "IDxPath='//*[@id=\"id\"]'\n",
    "PasswordxPath='//*[@id=\"pw\"]'\n",
    "\n",
    "ID=input(\"네이버 아이디: \")\n",
    "Password=input(\"네이버 비밀번호: \")\n",
    "\n",
    "clipboard_input(driver, IDxPath, ID)\n",
    "clipboard_input(driver,PasswordxPath,Password)\n",
    "driver.find_element_by_xpath('//*[@value=\"로그인\"]').click()"
   ]
  }
 ],
 "metadata": {
  "kernelspec": {
   "display_name": "Python 3",
   "language": "python",
   "name": "python3"
  },
  "language_info": {
   "codemirror_mode": {
    "name": "ipython",
    "version": 3
   },
   "file_extension": ".py",
   "mimetype": "text/x-python",
   "name": "python",
   "nbconvert_exporter": "python",
   "pygments_lexer": "ipython3",
   "version": "3.8.3"
  }
 },
 "nbformat": 4,
 "nbformat_minor": 4
}
