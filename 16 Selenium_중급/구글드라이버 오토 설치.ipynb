{
 "cells": [
  {
   "cell_type": "code",
   "execution_count": 1,
   "metadata": {},
   "outputs": [
    {
     "name": "stdout",
     "output_type": "stream",
     "text": [
      "Collecting chromedriver_autoinstaller\n",
      "  Downloading chromedriver_autoinstaller-0.2.2-py3-none-any.whl (5.9 kB)\n",
      "Installing collected packages: chromedriver-autoinstaller\n",
      "Successfully installed chromedriver-autoinstaller-0.2.2\n"
     ]
    }
   ],
   "source": [
    "!pip install chromedriver_autoinstaller  # 자동으로 chromedirver 설치 코드"
   ]
  },
  {
   "cell_type": "code",
   "execution_count": null,
   "metadata": {},
   "outputs": [],
   "source": [
    "# 웹 드라이버 자동 설치 및 동작 확인(네이버 로그인)\n",
    "\n",
    "from selenium import webdriver as wd \n",
    "import chromedriver_autoinstaller\n",
    "import time\n",
    "\n",
    "path = chromedriver_autoinstaller.install() # 자동으로 chromedirver를 설치 해 줌(크롬 브라우저 버전을 생각할 필요도 없어짐~!)\n",
    "print(path)\n",
    "driver = wd.Chrome(path)\n",
    "\n",
    "url = \"https://nid.naver.com/nidlogin.login\" # 접속할 url\n",
    "\n",
    "driver.get(url) # 접속 시도\n",
    "\n",
    "time.sleep(1) # 홈페이지 뜰 때까지 대기\n",
    "\n",
    "driver.close() # 웹 드라이버 닫기\n",
    "# driver.quit()"
   ]
  }
 ],
 "metadata": {
  "kernelspec": {
   "display_name": "Python 3",
   "language": "python",
   "name": "python3"
  },
  "language_info": {
   "codemirror_mode": {
    "name": "ipython",
    "version": 3
   },
   "file_extension": ".py",
   "mimetype": "text/x-python",
   "name": "python",
   "nbconvert_exporter": "python",
   "pygments_lexer": "ipython3",
   "version": "3.8.3"
  }
 },
 "nbformat": 4,
 "nbformat_minor": 4
}
