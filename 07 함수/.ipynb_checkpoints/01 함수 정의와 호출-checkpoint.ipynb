{
 "cells": [
  {
   "cell_type": "markdown",
   "metadata": {},
   "source": [
    "### 함수의 기본 구조"
   ]
  },
  {
   "cell_type": "code",
   "execution_count": 7,
   "metadata": {},
   "outputs": [
    {
     "ename": "SyntaxError",
     "evalue": "invalid syntax (<ipython-input-7-14e34592d58f>, line 3)",
     "output_type": "error",
     "traceback": [
      "\u001b[1;36m  File \u001b[1;32m\"<ipython-input-7-14e34592d58f>\"\u001b[1;36m, line \u001b[1;32m3\u001b[0m\n\u001b[1;33m    def sum (a, b)\u001b[0m\n\u001b[1;37m                  ^\u001b[0m\n\u001b[1;31mSyntaxError\u001b[0m\u001b[1;31m:\u001b[0m invalid syntax\n"
     ]
    }
   ],
   "source": [
    "a=1\n",
    "b=2\n",
    "def sum (a, b)\n",
    "c = a+b\n",
    "return c   # return 구문은 호출한곳으로 돌아간다."
   ]
  },
  {
   "cell_type": "markdown",
   "metadata": {},
   "source": [
    "#### 인자도 반환 값도 없는 함수"
   ]
  },
  {
   "cell_type": "code",
   "execution_count": 24,
   "metadata": {},
   "outputs": [],
   "source": [
    "def my_func() :\n",
    "    print('my first function!')\n",
    "    print('This is a function!')\n",
    "    \n",
    "# 1. 함수 선언\n",
    "# 2. 함수 호출"
   ]
  },
  {
   "cell_type": "code",
   "execution_count": 10,
   "metadata": {},
   "outputs": [
    {
     "name": "stdout",
     "output_type": "stream",
     "text": [
      "my first function!\n",
      "This is a function!\n"
     ]
    }
   ],
   "source": [
    "my_func()"
   ]
  },
  {
   "cell_type": "markdown",
   "metadata": {},
   "source": [
    "#### 인자는 있으나 반환 값이 없는 함수"
   ]
  },
  {
   "cell_type": "code",
   "execution_count": 21,
   "metadata": {},
   "outputs": [],
   "source": [
    "def myFriend(friendName) :                                # 함수 선언과 정의\n",
    "    print('{}은 나의 친구 입니다.'.format(friendName))"
   ]
  },
  {
   "cell_type": "code",
   "execution_count": 22,
   "metadata": {},
   "outputs": [
    {
     "name": "stdout",
     "output_type": "stream",
     "text": [
      "철호은 나의 친구 입니다.\n"
     ]
    }
   ],
   "source": [
    "myFriend('철호')  # 함수 호출"
   ]
  },
  {
   "cell_type": "code",
   "execution_count": 25,
   "metadata": {},
   "outputs": [],
   "source": [
    "def my_animal(animalName) :\n",
    "    print('{}은 나의 애완동물 입니다.'.format(animalName))"
   ]
  },
  {
   "cell_type": "code",
   "execution_count": 26,
   "metadata": {},
   "outputs": [
    {
     "name": "stdout",
     "output_type": "stream",
     "text": [
      "고슴도치은 나의 애완동물 입니다.\n"
     ]
    }
   ],
   "source": [
    "my_animal('고슴도치')"
   ]
  },
  {
   "cell_type": "code",
   "execution_count": 27,
   "metadata": {},
   "outputs": [],
   "source": [
    "def x (y) :\n",
    "    print('{}은 알파벳입니다.'.format(y))"
   ]
  },
  {
   "cell_type": "code",
   "execution_count": 29,
   "metadata": {},
   "outputs": [
    {
     "name": "stdout",
     "output_type": "stream",
     "text": [
      "b은 알파벳입니다.\n"
     ]
    }
   ],
   "source": [
    "x('b')"
   ]
  },
  {
   "cell_type": "code",
   "execution_count": 30,
   "metadata": {},
   "outputs": [],
   "source": [
    "def myFriend(friendName) :                                # f - string 대세!!\n",
    "    print(f'{friendName}은 나의 친구 입니다.')"
   ]
  },
  {
   "cell_type": "code",
   "execution_count": 31,
   "metadata": {},
   "outputs": [
    {
     "name": "stdout",
     "output_type": "stream",
     "text": [
      "철호은 나의 친구 입니다.\n"
     ]
    }
   ],
   "source": [
    "myFriend('철호')"
   ]
  },
  {
   "cell_type": "code",
   "execution_count": 39,
   "metadata": {},
   "outputs": [],
   "source": [
    "def my_student_info(name, school_ID, phoneNumber) :\n",
    "    print('-------------------------')\n",
    "    print('- 학생이름 :', name)\n",
    "    print('- 학급번호 :', school_ID)\n",
    "    print('- 전화번호 :', phoneNumber)"
   ]
  },
  {
   "cell_type": "code",
   "execution_count": 40,
   "metadata": {},
   "outputs": [
    {
     "name": "stdout",
     "output_type": "stream",
     "text": [
      "-------------------------\n",
      "- 학생이름 : 조철호\n",
      "- 학급번호 : 02\n",
      "- 전화번호 : 010-xxxx-0857\n",
      "-------------------------\n",
      "- 학생이름 : 최민지\n",
      "- 학급번호 : 03\n",
      "- 전화번호 : 010-xxxx-1234\n"
     ]
    }
   ],
   "source": [
    "my_student_info('조철호', '02', '010-xxxx-0857')\n",
    "my_student_info('최민지', '03', '010-xxxx-1234')"
   ]
  },
  {
   "cell_type": "code",
   "execution_count": 36,
   "metadata": {},
   "outputs": [],
   "source": [
    "def my_student_info(name, school_ID, phoneNumber) :\n",
    "    print('*****************************')\n",
    "    print('* 학생이름 :', name)\n",
    "    print('* 학급번호 :', school_ID)\n",
    "    print('* 전화번호 :', phoneNumber)"
   ]
  },
  {
   "cell_type": "code",
   "execution_count": 38,
   "metadata": {},
   "outputs": [
    {
     "name": "stdout",
     "output_type": "stream",
     "text": [
      "*****************************\n",
      "* 학생이름 : 조철호\n",
      "* 학급번호 : 02\n",
      "* 전화번호 : 010-xxxx-0857\n",
      "*****************************\n",
      "* 학생이름 : 최민지\n",
      "* 학급번호 : 03\n",
      "* 전화번호 : 010-xxxx-1234\n"
     ]
    }
   ],
   "source": [
    "my_student_info('조철호', '02', '010-xxxx-0857')\n",
    "my_student_info('최민지', '03', '010-xxxx-1234')"
   ]
  },
  {
   "cell_type": "markdown",
   "metadata": {},
   "source": [
    "#### 인자도 있고 반환 값도 있는 함수"
   ]
  },
  {
   "cell_type": "code",
   "execution_count": 41,
   "metadata": {},
   "outputs": [],
   "source": [
    "def my_calc(x,y) :\n",
    "    z = x*y\n",
    "    return z     # 리턴은 호출한곳으로 되돌아감을 의미"
   ]
  },
  {
   "cell_type": "code",
   "execution_count": 42,
   "metadata": {},
   "outputs": [
    {
     "data": {
      "text/plain": [
       "12"
      ]
     },
     "execution_count": 42,
     "metadata": {},
     "output_type": "execute_result"
    }
   ],
   "source": [
    "my_calc(3,4)     # print 구문이 생략되어 있다."
   ]
  },
  {
   "cell_type": "code",
   "execution_count": 49,
   "metadata": {},
   "outputs": [],
   "source": [
    "def my_student_info_list(student_info) :\n",
    "    print('-------------------------')\n",
    "    print('- 학생이름 :', student_info[0])\n",
    "    print('- 학급번호 :', student_info[1])\n",
    "    print('- 전화번호 :', student_info[2])"
   ]
  },
  {
   "cell_type": "code",
   "execution_count": 53,
   "metadata": {},
   "outputs": [
    {
     "name": "stdout",
     "output_type": "stream",
     "text": [
      "-------------------------\n",
      "- 학생이름 : 철호\n",
      "- 학급번호 : 02\n",
      "- 전화번호 : 010-xxxxx-0857\n"
     ]
    }
   ],
   "source": [
    "student1_info = ['철호', '02', '010-xxxxx-0857']\n",
    "my_student_info_list(student1_info)"
   ]
  },
  {
   "cell_type": "code",
   "execution_count": 54,
   "metadata": {},
   "outputs": [
    {
     "name": "stdout",
     "output_type": "stream",
     "text": [
      "-------------------------\n",
      "- 학생이름 : 진수\n",
      "- 학급번호 : 02\n",
      "- 전화번호 : 010-xxxx-0988\n"
     ]
    }
   ],
   "source": [
    "my_student_info_list(['진수', '02', '010-xxxx-0988'])"
   ]
  },
  {
   "cell_type": "code",
   "execution_count": null,
   "metadata": {},
   "outputs": [],
   "source": []
  }
 ],
 "metadata": {
  "kernelspec": {
   "display_name": "Python 3",
   "language": "python",
   "name": "python3"
  },
  "language_info": {
   "codemirror_mode": {
    "name": "ipython",
    "version": 3
   },
   "file_extension": ".py",
   "mimetype": "text/x-python",
   "name": "python",
   "nbconvert_exporter": "python",
   "pygments_lexer": "ipython3",
   "version": "3.8.3"
  }
 },
 "nbformat": 4,
 "nbformat_minor": 4
}
