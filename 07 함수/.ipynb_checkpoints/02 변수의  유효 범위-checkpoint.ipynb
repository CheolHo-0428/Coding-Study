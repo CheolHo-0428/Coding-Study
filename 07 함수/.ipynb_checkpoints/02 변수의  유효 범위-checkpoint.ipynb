{
 "cells": [
  {
   "cell_type": "code",
   "execution_count": 1,
   "metadata": {},
   "outputs": [],
   "source": [
    "# 함수 안에서 정의한 변수를 지역 변수라고 한다."
   ]
  },
  {
   "cell_type": "code",
   "execution_count": 2,
   "metadata": {},
   "outputs": [],
   "source": [
    "a = 5  # 전역 변수\n",
    "\n",
    "def func1() : \n",
    "    a = 1 # 지역 변수, func1()에서만 사용\n",
    "    print('[func1] 지역 변수 a =', a)\n",
    "\n",
    "def func2() : \n",
    "    a = 2 # 지역 변수, func2()에서만 사용\n",
    "    print('[func2] 지역 변수 a =', a)\n",
    "    \n",
    "\n",
    "def func3() : \n",
    "    print('[func3] 전역 변수 a =', a)\n",
    "    \n",
    "\n",
    "def func4() : \n",
    "    global a  # 함수 내에서 전역 변수를 변경하기 위해 선언\n",
    "    a = 4      # 전역 변수의 값 변경\n",
    "    print('[func4] 전역 변수 a =', a)"
   ]
  },
  {
   "cell_type": "code",
   "execution_count": 3,
   "metadata": {},
   "outputs": [
    {
     "name": "stdout",
     "output_type": "stream",
     "text": [
      "[func1] 지역 변수 a = 1\n",
      "[func2] 지역 변수 a = 2\n",
      "전역 변수 a= 5\n"
     ]
    }
   ],
   "source": [
    "func1() # 함수 func1() 호출\n",
    "func2() # 함수 func2() 호출\n",
    "print('전역 변수 a=', a) #전역 변수 출력"
   ]
  },
  {
   "cell_type": "code",
   "execution_count": 4,
   "metadata": {},
   "outputs": [
    {
     "name": "stdout",
     "output_type": "stream",
     "text": [
      "[func3] 전역 변수 a = 5\n",
      "[func4] 전역 변수 a = 4\n",
      "[func3] 전역 변수 a = 4\n"
     ]
    }
   ],
   "source": [
    "func3() # 함수 func3() 호출\n",
    "func4() # 함수 func4() 호출\n",
    "func3() # 함수 func3() 호출"
   ]
  },
  {
   "cell_type": "code",
   "execution_count": null,
   "metadata": {},
   "outputs": [],
   "source": [
    "# 지역 변수가 전역 변수 보다 우선순위가 높다!!!!!  지역변수 > 전역변수"
   ]
  }
 ],
 "metadata": {
  "kernelspec": {
   "display_name": "Python 3",
   "language": "python",
   "name": "python3"
  },
  "language_info": {
   "codemirror_mode": {
    "name": "ipython",
    "version": 3
   },
   "file_extension": ".py",
   "mimetype": "text/x-python",
   "name": "python",
   "nbconvert_exporter": "python",
   "pygments_lexer": "ipython3",
   "version": "3.8.3"
  }
 },
 "nbformat": 4,
 "nbformat_minor": 4
}
