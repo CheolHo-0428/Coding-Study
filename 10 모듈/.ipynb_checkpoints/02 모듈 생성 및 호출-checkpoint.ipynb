{
 "cells": [
  {
   "cell_type": "markdown",
   "metadata": {},
   "source": [
    "### 모듈 만들기"
   ]
  },
  {
   "cell_type": "code",
   "execution_count": 22,
   "metadata": {},
   "outputs": [
    {
     "name": "stdout",
     "output_type": "stream",
     "text": [
      "Writing C:\\Users\\Playdata\\0_ch\\10 모듈\\my_first_module.py\n"
     ]
    }
   ],
   "source": [
    "%%writefile \"C:\\Users\\Playdata\\0_ch\\10 모듈\\my_first_module.py\"  #경로에 띄어쓰기가 있으면 \" 경로\"\n",
    "    #File name : my_first_module.py\n",
    "    \n",
    "    def my_function() :\n",
    "        print('This is my first module.')"
   ]
  },
  {
   "cell_type": "code",
   "execution_count": 25,
   "metadata": {},
   "outputs": [
    {
     "name": "stdout",
     "output_type": "stream",
     "text": [
      "    #File name : my_first_module.py\n",
      "    \n",
      "    def my_function() :\n",
      "        print('This is my first module.')\n"
     ]
    }
   ],
   "source": [
    "!type \"C:\\Users\\Playdata\\0_ch\\10 모듈\\my_first_module.py\""
   ]
  },
  {
   "cell_type": "code",
   "execution_count": null,
   "metadata": {},
   "outputs": [],
   "source": []
  },
  {
   "cell_type": "markdown",
   "metadata": {},
   "source": [
    "### 모듈 불러오기"
   ]
  },
  {
   "cell_type": "code",
   "execution_count": 31,
   "metadata": {},
   "outputs": [
    {
     "name": "stdout",
     "output_type": "stream",
     "text": [
      "C:\\myPyCode\n"
     ]
    }
   ],
   "source": [
    "cd C:\\myPyCode"
   ]
  },
  {
   "cell_type": "code",
   "execution_count": 33,
   "metadata": {},
   "outputs": [
    {
     "ename": "IndentationError",
     "evalue": "unexpected indent (my_first_module.py, line 3)",
     "output_type": "error",
     "traceback": [
      "Traceback \u001b[1;36m(most recent call last)\u001b[0m:\n",
      "  File \u001b[0;32m\"C:\\ProgramData\\Anaconda3\\lib\\site-packages\\IPython\\core\\interactiveshell.py\"\u001b[0m, line \u001b[0;32m3343\u001b[0m, in \u001b[0;35mrun_code\u001b[0m\n    exec(code_obj, self.user_global_ns, self.user_ns)\n",
      "\u001b[1;36m  File \u001b[1;32m\"<ipython-input-33-143030c5523c>\"\u001b[1;36m, line \u001b[1;32m1\u001b[1;36m, in \u001b[1;35m<module>\u001b[1;36m\u001b[0m\n\u001b[1;33m    import my_first_module\u001b[0m\n",
      "\u001b[1;36m  File \u001b[1;32m\"C:\\myPyCode\\my_first_module.py\"\u001b[1;36m, line \u001b[1;32m3\u001b[0m\n\u001b[1;33m    def my_function() :\u001b[0m\n\u001b[1;37m    ^\u001b[0m\n\u001b[1;31mIndentationError\u001b[0m\u001b[1;31m:\u001b[0m unexpected indent\n"
     ]
    }
   ],
   "source": [
    "import my_first_module\n",
    "\n",
    "my_first_module.my_function()"
   ]
  },
  {
   "cell_type": "code",
   "execution_count": 30,
   "metadata": {},
   "outputs": [
    {
     "name": "stdout",
     "output_type": "stream",
     "text": [
      "C:\\myPyCode\\packages;C:\\myPyCode\\modules\n"
     ]
    }
   ],
   "source": [
    "!echo %PYTHONPATH%"
   ]
  },
  {
   "cell_type": "code",
   "execution_count": 40,
   "metadata": {},
   "outputs": [
    {
     "name": "stdout",
     "output_type": "stream",
     "text": [
      "Overwriting C:\\myPyCode\\my_first_module.py\n"
     ]
    }
   ],
   "source": [
    "%%writefile C:\\myPyCode\\my_first_module.py\n",
    "#File name : my_first_module.py\n",
    "    \n",
    "def my_function() :\n",
    "    print('This is my first module.')"
   ]
  },
  {
   "cell_type": "code",
   "execution_count": 41,
   "metadata": {},
   "outputs": [
    {
     "name": "stdout",
     "output_type": "stream",
     "text": [
      "#File name : my_first_module.py\n",
      "    \n",
      "def my_function() :\n",
      "    print('This is my first module.')\n"
     ]
    }
   ],
   "source": [
    "!type C:\\myPyCode\\my_first_module.py"
   ]
  },
  {
   "cell_type": "code",
   "execution_count": 42,
   "metadata": {},
   "outputs": [
    {
     "name": "stdout",
     "output_type": "stream",
     "text": [
      "C:\\myPyCode\n"
     ]
    }
   ],
   "source": [
    "cd C:\\myPyCode"
   ]
  },
  {
   "cell_type": "code",
   "execution_count": 43,
   "metadata": {},
   "outputs": [
    {
     "name": "stdout",
     "output_type": "stream",
     "text": [
      "This is my first module.\n"
     ]
    }
   ],
   "source": [
    "import my_first_module\n",
    "\n",
    "my_first_module.my_function()"
   ]
  },
  {
   "cell_type": "code",
   "execution_count": null,
   "metadata": {},
   "outputs": [],
   "source": []
  }
 ],
 "metadata": {
  "kernelspec": {
   "display_name": "Python 3",
   "language": "python",
   "name": "python3"
  },
  "language_info": {
   "codemirror_mode": {
    "name": "ipython",
    "version": 3
   },
   "file_extension": ".py",
   "mimetype": "text/x-python",
   "name": "python",
   "nbconvert_exporter": "python",
   "pygments_lexer": "ipython3",
   "version": "3.8.3"
  }
 },
 "nbformat": 4,
 "nbformat_minor": 4
}
