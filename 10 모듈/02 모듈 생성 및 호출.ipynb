{
 "cells": [
  {
   "cell_type": "markdown",
   "metadata": {},
   "source": [
    "### 모듈 만들기"
   ]
  },
  {
   "cell_type": "code",
   "execution_count": 22,
   "metadata": {},
   "outputs": [
    {
     "name": "stdout",
     "output_type": "stream",
     "text": [
      "Writing C:\\Users\\Playdata\\0_ch\\10 모듈\\my_first_module.py\n"
     ]
    }
   ],
   "source": [
    "%%writefile \"C:\\Users\\Playdata\\0_ch\\10 모듈\\my_first_module.py\"  #경로에 띄어쓰기가 있으면 \" 경로\"\n",
    "    #File name : my_first_module.py\n",
    "    \n",
    "    def my_function() :\n",
    "        print('This is my first module.')"
   ]
  },
  {
   "cell_type": "code",
   "execution_count": 25,
   "metadata": {},
   "outputs": [
    {
     "name": "stdout",
     "output_type": "stream",
     "text": [
      "    #File name : my_first_module.py\n",
      "    \n",
      "    def my_function() :\n",
      "        print('This is my first module.')\n"
     ]
    }
   ],
   "source": [
    "!type \"C:\\Users\\Playdata\\0_ch\\10 모듈\\my_first_module.py\""
   ]
  },
  {
   "cell_type": "code",
   "execution_count": null,
   "metadata": {},
   "outputs": [],
   "source": []
  },
  {
   "cell_type": "markdown",
   "metadata": {},
   "source": [
    "### 모듈 불러오기"
   ]
  },
  {
   "cell_type": "code",
   "execution_count": 31,
   "metadata": {},
   "outputs": [
    {
     "name": "stdout",
     "output_type": "stream",
     "text": [
      "C:\\myPyCode\n"
     ]
    }
   ],
   "source": [
    "cd C:\\myPyCode"
   ]
  },
  {
   "cell_type": "code",
   "execution_count": 33,
   "metadata": {},
   "outputs": [
    {
     "ename": "IndentationError",
     "evalue": "unexpected indent (my_first_module.py, line 3)",
     "output_type": "error",
     "traceback": [
      "Traceback \u001b[1;36m(most recent call last)\u001b[0m:\n",
      "  File \u001b[0;32m\"C:\\ProgramData\\Anaconda3\\lib\\site-packages\\IPython\\core\\interactiveshell.py\"\u001b[0m, line \u001b[0;32m3343\u001b[0m, in \u001b[0;35mrun_code\u001b[0m\n    exec(code_obj, self.user_global_ns, self.user_ns)\n",
      "\u001b[1;36m  File \u001b[1;32m\"<ipython-input-33-143030c5523c>\"\u001b[1;36m, line \u001b[1;32m1\u001b[1;36m, in \u001b[1;35m<module>\u001b[1;36m\u001b[0m\n\u001b[1;33m    import my_first_module\u001b[0m\n",
      "\u001b[1;36m  File \u001b[1;32m\"C:\\myPyCode\\my_first_module.py\"\u001b[1;36m, line \u001b[1;32m3\u001b[0m\n\u001b[1;33m    def my_function() :\u001b[0m\n\u001b[1;37m    ^\u001b[0m\n\u001b[1;31mIndentationError\u001b[0m\u001b[1;31m:\u001b[0m unexpected indent\n"
     ]
    }
   ],
   "source": [
    "import my_first_module\n",
    "\n",
    "my_first_module.my_function()"
   ]
  },
  {
   "cell_type": "code",
   "execution_count": 2,
   "metadata": {},
   "outputs": [
    {
     "name": "stdout",
     "output_type": "stream",
     "text": [
      "%PYTHONPATH%\n"
     ]
    }
   ],
   "source": [
    "!echo %PYTHONPATH%"
   ]
  },
  {
   "cell_type": "code",
   "execution_count": 3,
   "metadata": {},
   "outputs": [
    {
     "name": "stdout",
     "output_type": "stream",
     "text": [
      "Writing C:\\myPyCode\\my_first_module.py\n"
     ]
    }
   ],
   "source": [
    "%%writefile C:\\myPyCode\\my_first_module.py\n",
    "#File name : my_first_module.py\n",
    "    \n",
    "def my_function() :\n",
    "    print('This is my first module.')"
   ]
  },
  {
   "cell_type": "code",
   "execution_count": 4,
   "metadata": {},
   "outputs": [
    {
     "name": "stdout",
     "output_type": "stream",
     "text": [
      "#File name : my_first_module.py\n",
      "    \n",
      "def my_function() :\n",
      "    print('This is my first module.')\n"
     ]
    }
   ],
   "source": [
    "!type C:\\myPyCode\\my_first_module.py"
   ]
  },
  {
   "cell_type": "code",
   "execution_count": 5,
   "metadata": {},
   "outputs": [
    {
     "name": "stdout",
     "output_type": "stream",
     "text": [
      "C:\\myPyCode\n"
     ]
    }
   ],
   "source": [
    "cd C:\\myPyCode"
   ]
  },
  {
   "cell_type": "code",
   "execution_count": 6,
   "metadata": {},
   "outputs": [
    {
     "name": "stdout",
     "output_type": "stream",
     "text": [
      "This is my first module.\n"
     ]
    }
   ],
   "source": [
    "import my_first_module\n",
    "\n",
    "my_first_module.my_function()"
   ]
  },
  {
   "cell_type": "code",
   "execution_count": 1,
   "metadata": {},
   "outputs": [
    {
     "name": "stdout",
     "output_type": "stream",
     "text": [
      "C:\\myPyCode\\modules;C:\\myPyCode\\packages\n"
     ]
    }
   ],
   "source": [
    "!echo %PYTHONPATH%"
   ]
  },
  {
   "cell_type": "code",
   "execution_count": 2,
   "metadata": {},
   "outputs": [
    {
     "name": "stdout",
     "output_type": "stream",
     "text": [
      "Writing C:\\myPyCode\\modules\\my_area.py\n"
     ]
    }
   ],
   "source": [
    "%%writefile C:\\myPyCode\\modules\\my_area.py\n",
    "# File name : my_area.py\n",
    "\n",
    "PI = 3.14\n",
    "def square_area(a): # 정사각형의 넓이 반환\n",
    "    return a**2     # 호출한 곳으로 결과값을 반환한다!\n",
    "\n",
    "def circle_area(r) : #원의 넓이 반환\n",
    "    return PI * r **2    # 호출한 곳으로 결과값을 반환한다!"
   ]
  },
  {
   "cell_type": "code",
   "execution_count": 5,
   "metadata": {},
   "outputs": [
    {
     "name": "stdout",
     "output_type": "stream",
     "text": [
      "c:\\myPyCode\n"
     ]
    }
   ],
   "source": [
    "cd c:\\myPyCode"
   ]
  },
  {
   "cell_type": "code",
   "execution_count": 6,
   "metadata": {},
   "outputs": [
    {
     "name": "stdout",
     "output_type": "stream",
     "text": [
      "pi= 3.14\n",
      "square area = 25\n",
      "circle_area= 12.56\n"
     ]
    }
   ],
   "source": [
    "import my_area   # 모듈 불러오기\n",
    "\n",
    "print('pi=', my_area.PI)     # 모듈의 변수 이용\n",
    "print('square area =', my_area.square_area(5))    # 모듈의 함수 이용\n",
    "print('circle_area=', my_area.circle_area(2))"
   ]
  },
  {
   "cell_type": "code",
   "execution_count": 7,
   "metadata": {},
   "outputs": [
    {
     "data": {
      "text/plain": [
       "['PI',\n",
       " '__builtins__',\n",
       " '__cached__',\n",
       " '__doc__',\n",
       " '__file__',\n",
       " '__loader__',\n",
       " '__name__',\n",
       " '__package__',\n",
       " '__spec__',\n",
       " 'circle_area',\n",
       " 'square_area']"
      ]
     },
     "execution_count": 7,
     "metadata": {},
     "output_type": "execute_result"
    }
   ],
   "source": [
    "dir(my_area)"
   ]
  },
  {
   "cell_type": "code",
   "execution_count": null,
   "metadata": {},
   "outputs": [],
   "source": []
  },
  {
   "cell_type": "markdown",
   "metadata": {},
   "source": [
    "### 모듈을 불러오는 다른형식"
   ]
  },
  {
   "cell_type": "markdown",
   "metadata": {},
   "source": [
    "#### 모듈의 내용 바로 선언"
   ]
  },
  {
   "cell_type": "code",
   "execution_count": 9,
   "metadata": {},
   "outputs": [
    {
     "name": "stdout",
     "output_type": "stream",
     "text": [
      "pi= 3.14\n"
     ]
    }
   ],
   "source": [
    "from my_area import PI      # 모듈의 변수 바로 불러오기\n",
    "\n",
    "print('pi=', PI)             # 모듈의 변수 이용"
   ]
  },
  {
   "cell_type": "code",
   "execution_count": 11,
   "metadata": {},
   "outputs": [
    {
     "name": "stdout",
     "output_type": "stream",
     "text": [
      "sqaure area= 25\n",
      "circle area= 12.56\n"
     ]
    }
   ],
   "source": [
    "from my_area import square_area\n",
    "from my_area import circle_area\n",
    "\n",
    "print('sqaure area=',square_area(5))\n",
    "print('circle area=',circle_area(2))"
   ]
  },
  {
   "cell_type": "code",
   "execution_count": 12,
   "metadata": {},
   "outputs": [
    {
     "name": "stdout",
     "output_type": "stream",
     "text": [
      "pi= 3.14\n",
      "sqaure area= 25\n",
      "circle area= 78.5\n"
     ]
    }
   ],
   "source": [
    "from my_area import PI, square_area, circle_area\n",
    "\n",
    "print('pi=', PI)\n",
    "print('sqaure area=', square_area(5))\n",
    "print('circle area=', circle_area(5))"
   ]
  },
  {
   "cell_type": "code",
   "execution_count": 13,
   "metadata": {},
   "outputs": [
    {
     "name": "stdout",
     "output_type": "stream",
     "text": [
      "print= 3.14\n",
      "square area= 25\n",
      "circle area= 12.56\n"
     ]
    }
   ],
   "source": [
    "from my_area import *\n",
    "\n",
    "print('print=', PI)\n",
    "print('square area=', square_area(5))\n",
    "print('circle area=', circle_area(2))"
   ]
  },
  {
   "cell_type": "code",
   "execution_count": 14,
   "metadata": {},
   "outputs": [
    {
     "name": "stdout",
     "output_type": "stream",
     "text": [
      "Writing c:\\myPyCode\\modules\\my_modules1.py\n"
     ]
    }
   ],
   "source": [
    "%%writefile c:\\myPyCode\\modules\\my_modules1.py\n",
    "# File name: my_modules1.py\n",
    "\n",
    "def func1() :\n",
    "    print('func1 in my_module1')\n",
    "    \n",
    "def func2() :\n",
    "    print('func2 in my_modules1')"
   ]
  },
  {
   "cell_type": "code",
   "execution_count": 19,
   "metadata": {},
   "outputs": [
    {
     "name": "stdout",
     "output_type": "stream",
     "text": [
      "Writing c:\\myPyCode\\modules\\my_modules2.py\n"
     ]
    }
   ],
   "source": [
    "%%writefile c:\\myPyCode\\modules\\my_modules2.py\n",
    "# File name: my_modules2.py\n",
    "\n",
    "def func2():\n",
    "    print('func2 in my_module2')\n",
    "    \n",
    "def func3() :\n",
    "    print('func3 in my_modules2')"
   ]
  },
  {
   "cell_type": "code",
   "execution_count": 20,
   "metadata": {},
   "outputs": [
    {
     "name": "stdout",
     "output_type": "stream",
     "text": [
      "func1 in my_module1\n",
      "func2 in my_module2\n",
      "func3 in my_modules2\n"
     ]
    }
   ],
   "source": [
    "from my_modules1 import *\n",
    "from my_modules2 import *\n",
    "\n",
    "func1()\n",
    "func2()\n",
    "func3()"
   ]
  },
  {
   "cell_type": "code",
   "execution_count": 21,
   "metadata": {},
   "outputs": [
    {
     "name": "stdout",
     "output_type": "stream",
     "text": [
      "func1 in my_module1\n",
      "func2 in my_modules1\n",
      "func3 in my_modules2\n"
     ]
    }
   ],
   "source": [
    "from my_modules2 import *\n",
    "from my_modules1 import *\n",
    "\n",
    "func1()\n",
    "func2()\n",
    "func3()"
   ]
  },
  {
   "cell_type": "code",
   "execution_count": null,
   "metadata": {},
   "outputs": [],
   "source": []
  },
  {
   "cell_type": "markdown",
   "metadata": {},
   "source": [
    "#### 모듈명을 별명으로 선언"
   ]
  },
  {
   "cell_type": "code",
   "execution_count": 22,
   "metadata": {},
   "outputs": [
    {
     "name": "stdout",
     "output_type": "stream",
     "text": [
      "pi= 3.14\n",
      "square area= 25\n",
      "circle area= 12.56\n"
     ]
    }
   ],
   "source": [
    "import my_area as ar # 모듈명(my_area)에 별명(ar)을 붙임\n",
    "\n",
    "print('pi=', ar.PI)\n",
    "print('square area=', ar.square_area(5))\n",
    "print('circle area=', ar.circle_area(2))"
   ]
  },
  {
   "cell_type": "code",
   "execution_count": 24,
   "metadata": {},
   "outputs": [
    {
     "name": "stdout",
     "output_type": "stream",
     "text": [
      "pi= 3.14\n",
      "suqare area= 25\n",
      "circle area= 12.56\n"
     ]
    }
   ],
   "source": [
    "from my_area import PI as pi\n",
    "from my_area import square_area as sq\n",
    "from my_area import circle_area as cc\n",
    "\n",
    "print('pi=', pi)                # 모듈 변수의 별명 이용\n",
    "print('suqare area=', sq(5))    # 모듈 함수의 별명 이용\n",
    "print('circle area=', cc(2))"
   ]
  },
  {
   "cell_type": "code",
   "execution_count": null,
   "metadata": {},
   "outputs": [],
   "source": []
  }
 ],
 "metadata": {
  "kernelspec": {
   "display_name": "Python 3",
   "language": "python",
   "name": "python3"
  },
  "language_info": {
   "codemirror_mode": {
    "name": "ipython",
    "version": 3
   },
   "file_extension": ".py",
   "mimetype": "text/x-python",
   "name": "python",
   "nbconvert_exporter": "python",
   "pygments_lexer": "ipython3",
   "version": "3.8.3"
  }
 },
 "nbformat": 4,
 "nbformat_minor": 4
}
