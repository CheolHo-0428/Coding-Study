{
 "cells": [
  {
   "cell_type": "code",
   "execution_count": 2,
   "metadata": {},
   "outputs": [
    {
     "name": "stdout",
     "output_type": "stream",
     "text": [
      "키를 입력하세요 : 90\n",
      "탑승 불가\n"
     ]
    }
   ],
   "source": [
    "Height = int(input('키를 입력하세요 : '))\n",
    "\n",
    "if Height >= 100 :\n",
    "    print('탑승 가능')\n",
    "\n",
    "else :\n",
    "    print('탑승 불가')"
   ]
  },
  {
   "cell_type": "code",
   "execution_count": 8,
   "metadata": {},
   "outputs": [
    {
     "name": "stdout",
     "output_type": "stream",
     "text": [
      "나이를 입력하세요 : 10\n",
      "키를 입력하세요 : 100\n",
      "탑승 가능\n"
     ]
    }
   ],
   "source": [
    "age = int(input('나이를 입력하세요 : '))\n",
    "\n",
    "if age >= 5 :\n",
    "    Height = int(input('키를 입력하세요 : '))\n",
    "    if Height >= 100 :\n",
    "        print('탑승 가능')\n",
    "    else :\n",
    "        print('키가 기준이 되지않아 탑승이 불가능')\n",
    "\n",
    "else : \n",
    "    print('나이가 기준에 부적합 탑승 불가')"
   ]
  },
  {
   "cell_type": "code",
   "execution_count": 20,
   "metadata": {},
   "outputs": [
    {
     "name": "stdout",
     "output_type": "stream",
     "text": [
      "키를 입력해주세요100\n",
      "나이를 입력해주세요(세)3\n",
      "죄송하지만5세 이상부터 입장 가능합니다.\n"
     ]
    }
   ],
   "source": [
    "height = input(\"키를 입력해주세요\")   # 내가 한거!!!!!\n",
    "if \"m\" in height:\n",
    "    print(\"단위는 빼고 다시 입력하세요.\")\n",
    "else :   \n",
    "    height = int(height)\n",
    "    if height >= 100:\n",
    "        standard = 5\n",
    "        age = int(input(\"나이를 입력해주세요(세)\"))\n",
    "        if age >= standard:\n",
    "            print(\"입장하세요\")\n",
    "        else :\n",
    "            print(\"죄송하지만\"+str(standard)+\"세 이상부터 입장 가능합니다.\")\n",
    "    else :\n",
    "        print(\"죄송하지만, 다음 기회에\")"
   ]
  },
  {
   "cell_type": "code",
   "execution_count": null,
   "metadata": {},
   "outputs": [],
   "source": []
  },
  {
   "cell_type": "code",
   "execution_count": null,
   "metadata": {},
   "outputs": [],
   "source": []
  },
  {
   "cell_type": "code",
   "execution_count": null,
   "metadata": {},
   "outputs": [],
   "source": []
  },
  {
   "cell_type": "code",
   "execution_count": null,
   "metadata": {},
   "outputs": [],
   "source": []
  },
  {
   "cell_type": "code",
   "execution_count": null,
   "metadata": {},
   "outputs": [],
   "source": []
  },
  {
   "cell_type": "code",
   "execution_count": null,
   "metadata": {},
   "outputs": [],
   "source": []
  },
  {
   "cell_type": "code",
   "execution_count": null,
   "metadata": {},
   "outputs": [],
   "source": []
  },
  {
   "cell_type": "code",
   "execution_count": null,
   "metadata": {},
   "outputs": [],
   "source": []
  }
 ],
 "metadata": {
  "kernelspec": {
   "display_name": "Python 3",
   "language": "python",
   "name": "python3"
  },
  "language_info": {
   "codemirror_mode": {
    "name": "ipython",
    "version": 3
   },
   "file_extension": ".py",
   "mimetype": "text/x-python",
   "name": "python",
   "nbconvert_exporter": "python",
   "pygments_lexer": "ipython3",
   "version": "3.8.3"
  }
 },
 "nbformat": 4,
 "nbformat_minor": 4
}
