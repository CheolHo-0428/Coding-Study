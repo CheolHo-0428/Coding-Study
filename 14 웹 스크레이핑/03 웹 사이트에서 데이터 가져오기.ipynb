{
 "cells": [
  {
   "cell_type": "code",
   "execution_count": 6,
   "metadata": {},
   "outputs": [],
   "source": [
    "import requests\n",
    "from bs4 import BeautifulSoup\n",
    "\n",
    "url = 'https://www.alexa.com/topsites/countries/KR'\n",
    "\n",
    "html_website_ranking = requests.get(url).text\n",
    "soup_website_ranking = BeautifulSoup(html_website_ranking, 'lxml')\n",
    "\n",
    "website_ranking = soup_website_ranking.select('p a')"
   ]
  },
  {
   "cell_type": "code",
   "execution_count": 8,
   "metadata": {},
   "outputs": [
    {
     "data": {
      "text/plain": [
       "[<a href=\"/siteinfo/google.com\">Google.com</a>,\n",
       " <a href=\"/siteinfo/naver.com\">Naver.com</a>,\n",
       " <a href=\"/siteinfo/youtube.com\">Youtube.com</a>,\n",
       " <a href=\"/siteinfo/daum.net\">Daum.net</a>,\n",
       " <a href=\"/siteinfo/tistory.com\">Tistory.com</a>,\n",
       " <a href=\"/siteinfo/tmall.com\">Tmall.com</a>]"
      ]
     },
     "execution_count": 8,
     "metadata": {},
     "output_type": "execute_result"
    }
   ],
   "source": [
    "website_ranking[1:7]"
   ]
  },
  {
   "cell_type": "code",
   "execution_count": 10,
   "metadata": {},
   "outputs": [
    {
     "data": {
      "text/plain": [
       "'Google.com'"
      ]
     },
     "execution_count": 10,
     "metadata": {},
     "output_type": "execute_result"
    }
   ],
   "source": [
    "website_ranking[1].get_text()"
   ]
  },
  {
   "cell_type": "code",
   "execution_count": 11,
   "metadata": {},
   "outputs": [],
   "source": [
    "website_ranking_address = [website_ranking_element.get_text() for\n",
    "                          website_ranking_element in website_ranking]"
   ]
  },
  {
   "cell_type": "code",
   "execution_count": 12,
   "metadata": {},
   "outputs": [
    {
     "data": {
      "text/plain": [
       "['Google.com',\n",
       " 'Naver.com',\n",
       " 'Youtube.com',\n",
       " 'Daum.net',\n",
       " 'Tistory.com',\n",
       " 'Tmall.com']"
      ]
     },
     "execution_count": 12,
     "metadata": {},
     "output_type": "execute_result"
    }
   ],
   "source": [
    "website_ranking_address[1:7]"
   ]
  },
  {
   "cell_type": "code",
   "execution_count": 46,
   "metadata": {},
   "outputs": [
    {
     "data": {
      "text/html": [
       "<div>\n",
       "<style scoped>\n",
       "    .dataframe tbody tr th:only-of-type {\n",
       "        vertical-align: middle;\n",
       "    }\n",
       "\n",
       "    .dataframe tbody tr th {\n",
       "        vertical-align: top;\n",
       "    }\n",
       "\n",
       "    .dataframe thead th {\n",
       "        text-align: right;\n",
       "    }\n",
       "</style>\n",
       "<table border=\"1\" class=\"dataframe\">\n",
       "  <thead>\n",
       "    <tr style=\"text-align: right;\">\n",
       "      <th></th>\n",
       "      <th>Website</th>\n",
       "    </tr>\n",
       "  </thead>\n",
       "  <tbody>\n",
       "    <tr>\n",
       "      <th>2</th>\n",
       "      <td>Google.com</td>\n",
       "    </tr>\n",
       "    <tr>\n",
       "      <th>3</th>\n",
       "      <td>Naver.com</td>\n",
       "    </tr>\n",
       "    <tr>\n",
       "      <th>4</th>\n",
       "      <td>Youtube.com</td>\n",
       "    </tr>\n",
       "    <tr>\n",
       "      <th>5</th>\n",
       "      <td>Daum.net</td>\n",
       "    </tr>\n",
       "    <tr>\n",
       "      <th>6</th>\n",
       "      <td>Tistory.com</td>\n",
       "    </tr>\n",
       "    <tr>\n",
       "      <th>7</th>\n",
       "      <td>Tmall.com</td>\n",
       "    </tr>\n",
       "  </tbody>\n",
       "</table>\n",
       "</div>"
      ],
      "text/plain": [
       "       Website\n",
       "2   Google.com\n",
       "3    Naver.com\n",
       "4  Youtube.com\n",
       "5     Daum.net\n",
       "6  Tistory.com\n",
       "7    Tmall.com"
      ]
     },
     "execution_count": 46,
     "metadata": {},
     "output_type": "execute_result"
    }
   ],
   "source": [
    "import pandas as pd\n",
    "\n",
    "websote_ranking_dict = {'Website': website_ranking_address}\n",
    "df = pd.DataFrame(websote_ranking_dict, columns=['Website'],\n",
    "                 index=range(1,len(website_ranking_address)+1))\n",
    "df[1:7]"
   ]
  },
  {
   "cell_type": "code",
   "execution_count": 47,
   "metadata": {},
   "outputs": [
    {
     "data": {
      "text/plain": [
       "[<span class=\"ellipsis\">눈 (Feat. 이문세)</span>,\n",
       " <span class=\"ellipsis\">기억의 빈자리</span>,\n",
       " <span class=\"ellipsis\">선물</span>,\n",
       " <span class=\"ellipsis\">Beautiful</span>,\n",
       " <span class=\"ellipsis\">좋아</span>,\n",
       " <span class=\"ellipsis\">피카부 (Peek-A-Boo)</span>,\n",
       " <span class=\"ellipsis\">좋니</span>]"
      ]
     },
     "execution_count": 47,
     "metadata": {},
     "output_type": "execute_result"
    }
   ],
   "source": [
    "import requests\n",
    "from bs4 import BeautifulSoup\n",
    "\n",
    "url3 = 'https://music.naver.com/listen/history/index.nhn?type=DOMESTIC&year=2017&month=12&week=1'\n",
    "html_music = requests.get(url3).text\n",
    "soup_music = BeautifulSoup(html_music, 'lxml')\n",
    "\n",
    "titles = soup_music.select('a._title span.ellipsis')\n",
    "titles[0:7]"
   ]
  },
  {
   "cell_type": "code",
   "execution_count": 53,
   "metadata": {},
   "outputs": [
    {
     "name": "stdout",
     "output_type": "stream",
     "text": [
      "연도를 입력하세요 : 2017\n",
      "월을 입력하세요 : 4\n",
      "주를 입력하세요 : 3\n",
      "[Top 10 in Naver Music]\n",
      "1 : 사랑이 잘 (With 오혁)\n",
      "2 : 팔레트 (Feat. G-DRAGON)\n",
      "3 : 밤편지\n",
      "4 : REALLY REALLY\n",
      "5 : She's a Baby\n",
      "6 : 얼굴 찌푸리지 말아요\n",
      "7 : 첫눈처럼 너에게 가겠다\n",
      "8 : KNOCK KNOCK\n",
      "9 : Marry Me\n",
      "10 : 이런 엔딩\n"
     ]
    }
   ],
   "source": [
    "import requests\n",
    "from bs4 import BeautifulSoup\n",
    "\n",
    "year = input('연도를 입력하세요 : ')\n",
    "month = input('월을 입력하세요 : ')\n",
    "week = input('주를 입력하세요 : ')\n",
    "\n",
    "if len(month) == 1:\n",
    "    month = \"0\"+month\n",
    "else:\n",
    "    month = month\n",
    "\n",
    "url3 = (f'https://music.naver.com/listen/history/index.nhn?type=DOMESTIC&year={year}&month={month}&week={week}')\n",
    "html_music = requests.get(url3).text\n",
    "soup_music = BeautifulSoup(html_music, 'lxml')\n",
    "\n",
    "titles = soup_music.select('a._title span.ellipsis')\n",
    "\n",
    "music_ranking_address = [music_ranking_element.get_text() for\n",
    "                          music_ranking_element in titles]\n",
    "\n",
    "print(\"[Top 10 in Naver Music]\")\n",
    "for k in range(10):\n",
    "    print(f\"{k+1} : {music_ranking_address[k]}\")"
   ]
  },
  {
   "cell_type": "code",
   "execution_count": null,
   "metadata": {},
   "outputs": [],
   "source": []
  },
  {
   "cell_type": "code",
   "execution_count": null,
   "metadata": {},
   "outputs": [],
   "source": []
  },
  {
   "cell_type": "code",
   "execution_count": null,
   "metadata": {},
   "outputs": [],
   "source": []
  },
  {
   "cell_type": "code",
   "execution_count": null,
   "metadata": {},
   "outputs": [],
   "source": []
  },
  {
   "cell_type": "code",
   "execution_count": null,
   "metadata": {},
   "outputs": [],
   "source": []
  },
  {
   "cell_type": "code",
   "execution_count": null,
   "metadata": {},
   "outputs": [],
   "source": []
  },
  {
   "cell_type": "markdown",
   "metadata": {},
   "source": [
    "MISSION"
   ]
  },
  {
   "cell_type": "code",
   "execution_count": 20,
   "metadata": {},
   "outputs": [],
   "source": [
    "import requests\n",
    "from bs4 import BeautifulSoup\n",
    "\n",
    "url = 'https://music.naver.com/listen/top100.nhn?domain=TOTAL'\n",
    "\n",
    "html_music_ranking = requests.get(url).text\n",
    "soup_music_ranking = BeautifulSoup(html_music_ranking, 'lxml')\n",
    "\n",
    "music_ranking = soup_music_ranking.select('td.name a span.ellipsis ')"
   ]
  },
  {
   "cell_type": "code",
   "execution_count": 21,
   "metadata": {},
   "outputs": [
    {
     "data": {
      "text/plain": [
       "[<span class=\"ellipsis\">Dynamite</span>,\n",
       " <span class=\"ellipsis\">Lovesick Girls</span>,\n",
       " <span class=\"ellipsis\">DON'T TOUCH ME</span>,\n",
       " <span class=\"ellipsis\">잠이 오질 않네요</span>,\n",
       " <span class=\"ellipsis\">취기를 빌려 (취향저격 그녀 X 산들)</span>,\n",
       " <span class=\"ellipsis\">힘든 건 사랑이 아니다</span>,\n",
       " <span class=\"ellipsis\">I CAN'T STOP ME</span>,\n",
       " <span class=\"ellipsis\">Savage Love (Laxed - Siren Beat) (BTS Remix)</span>,\n",
       " <span class=\"ellipsis\">딩가딩가 (Dingga)</span>,\n",
       " <span class=\"ellipsis\">마리아 (Maria)</span>]"
      ]
     },
     "execution_count": 21,
     "metadata": {},
     "output_type": "execute_result"
    }
   ],
   "source": [
    "music_ranking[0:10]"
   ]
  },
  {
   "cell_type": "code",
   "execution_count": 22,
   "metadata": {},
   "outputs": [],
   "source": [
    "music_ranking_address = [music_ranking_element.get_text() for\n",
    "                          music_ranking_element in music_ranking]"
   ]
  },
  {
   "cell_type": "code",
   "execution_count": 29,
   "metadata": {},
   "outputs": [
    {
     "data": {
      "text/plain": [
       "['Dynamite',\n",
       " 'Lovesick Girls',\n",
       " \"DON'T TOUCH ME\",\n",
       " '잠이 오질 않네요',\n",
       " '취기를 빌려 (취향저격 그녀 X 산들)',\n",
       " '힘든 건 사랑이 아니다',\n",
       " \"I CAN'T STOP ME\",\n",
       " 'Savage Love (Laxed - Siren Beat) (BTS Remix)',\n",
       " '딩가딩가 (Dingga)',\n",
       " '마리아 (Maria)']"
      ]
     },
     "execution_count": 29,
     "metadata": {},
     "output_type": "execute_result"
    }
   ],
   "source": [
    "music_ranking_address[0:10]"
   ]
  },
  {
   "cell_type": "code",
   "execution_count": 33,
   "metadata": {},
   "outputs": [
    {
     "name": "stdout",
     "output_type": "stream",
     "text": [
      "[Top 10 in Naver Music]\n",
      "1위 : Dynamite\n",
      "2위 : Lovesick Girls\n",
      "3위 : DON'T TOUCH ME\n",
      "4위 : 잠이 오질 않네요\n",
      "5위 : 취기를 빌려 (취향저격 그녀 X 산들)\n",
      "6위 : 힘든 건 사랑이 아니다\n",
      "7위 : I CAN'T STOP ME\n",
      "8위 : Savage Love (Laxed - Siren Beat) (BTS Remix)\n",
      "9위 : 딩가딩가 (Dingga)\n",
      "10위 : 마리아 (Maria)\n"
     ]
    }
   ],
   "source": [
    "print(\"[Top 10 in Naver Music]\")\n",
    "for k in range(10):\n",
    "    print(f'{k+1}위 : {music_ranking_address[k]}')"
   ]
  },
  {
   "cell_type": "code",
   "execution_count": null,
   "metadata": {},
   "outputs": [],
   "source": [
    "import requests  \n",
    "from bs4 import BeautifulSoup \n",
    "\n",
    "url = \"https://music.naver.com/listen/top100.nhn?domain=TOTAL_V2\"\n",
    "\n",
    "html_music_ranking = requests.get(url).text\n",
    "soup_music_ranking = BeautifulSoup(html_music_ranking, \"lxml\")\n",
    "\n",
    "music_ranking = soup_music_ranking.select('a._title')\n",
    "\n",
    "music_ranking_address = []\n",
    "\n",
    "for music_ranking_element in music_ranking:\n",
    "    music_ranking_address.append(music_ranking_element.get_text())\n",
    "\n",
    "print(\"[Top 10 in Naver Music]\")\n",
    "for k in range(10):\n",
    "    # print(\"{0}: {1}\".format(k+1, music_ranking_address[k]))\n",
    "    print(f\"{k+1} {music_ranking_address[k]}\")"
   ]
  },
  {
   "cell_type": "code",
   "execution_count": null,
   "metadata": {},
   "outputs": [],
   "source": []
  },
  {
   "cell_type": "markdown",
   "metadata": {},
   "source": [
    "Mission"
   ]
  },
  {
   "cell_type": "code",
   "execution_count": 38,
   "metadata": {},
   "outputs": [],
   "source": [
    "import requests\n",
    "from bs4 import BeautifulSoup\n",
    "\n",
    "url2 = 'https://tv.naver.com/r/'\n",
    "\n",
    "html_video_ranking = requests.get(url2).text\n",
    "soup_video_ranking = BeautifulSoup(html_video_ranking, 'lxml')\n",
    "\n",
    "video_ranking = soup_video_ranking.select('.inner')"
   ]
  },
  {
   "cell_type": "code",
   "execution_count": 39,
   "metadata": {},
   "outputs": [
    {
     "data": {
      "text/plain": [
       "[]"
      ]
     },
     "execution_count": 39,
     "metadata": {},
     "output_type": "execute_result"
    }
   ],
   "source": [
    "video_ranking[0:11]"
   ]
  },
  {
   "cell_type": "code",
   "execution_count": null,
   "metadata": {},
   "outputs": [],
   "source": []
  }
 ],
 "metadata": {
  "kernelspec": {
   "display_name": "Python 3",
   "language": "python",
   "name": "python3"
  },
  "language_info": {
   "codemirror_mode": {
    "name": "ipython",
    "version": 3
   },
   "file_extension": ".py",
   "mimetype": "text/x-python",
   "name": "python",
   "nbconvert_exporter": "python",
   "pygments_lexer": "ipython3",
   "version": "3.8.3"
  }
 },
 "nbformat": 4,
 "nbformat_minor": 4
}
