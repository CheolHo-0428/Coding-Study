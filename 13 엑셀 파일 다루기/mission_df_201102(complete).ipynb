{
 "cells": [
  {
   "cell_type": "code",
   "execution_count": 5,
   "metadata": {},
   "outputs": [
    {
     "name": "stdout",
     "output_type": "stream",
     "text": [
      "성함을 입력해주세요 : 이도원\n",
      "이도원님의 타이핑 250이상 정확도 100이상 결과 입니다.\n"
     ]
    },
    {
     "data": {
      "text/html": [
       "<div>\n",
       "<style scoped>\n",
       "    .dataframe tbody tr th:only-of-type {\n",
       "        vertical-align: middle;\n",
       "    }\n",
       "\n",
       "    .dataframe tbody tr th {\n",
       "        vertical-align: top;\n",
       "    }\n",
       "\n",
       "    .dataframe thead th {\n",
       "        text-align: right;\n",
       "    }\n",
       "</style>\n",
       "<table border=\"1\" class=\"dataframe\">\n",
       "  <thead>\n",
       "    <tr style=\"text-align: right;\">\n",
       "      <th></th>\n",
       "      <th>타이핑</th>\n",
       "      <th>정확도</th>\n",
       "    </tr>\n",
       "  </thead>\n",
       "  <tbody>\n",
       "    <tr>\n",
       "      <th>4day</th>\n",
       "      <td>266.0</td>\n",
       "      <td>100.0</td>\n",
       "    </tr>\n",
       "    <tr>\n",
       "      <th>14day</th>\n",
       "      <td>261.0</td>\n",
       "      <td>100.0</td>\n",
       "    </tr>\n",
       "  </tbody>\n",
       "</table>\n",
       "</div>"
      ],
      "text/plain": [
       "         타이핑    정확도\n",
       "4day   266.0  100.0\n",
       "14day  261.0  100.0"
      ]
     },
     "execution_count": 5,
     "metadata": {},
     "output_type": "execute_result"
    }
   ],
   "source": [
    "name = input('성함을 입력해주세요 : ')\n",
    "\n",
    "import pandas as pd\n",
    "\n",
    "excel_file_name = 'c:/myPyCode/data/play_typing2.xlsx'\n",
    "df = pd.read_excel(excel_file_name, index_col = '학생').T\n",
    "df\n",
    "\n",
    "day_tp = df[::2]\n",
    "day_ex = df[1::2]\n",
    "\n",
    "name_day_tp = day_tp[name]\n",
    "name_day_ex = day_ex[name]\n",
    "\n",
    "dftvalue = name_day_tp.values.tolist()\n",
    "dfevalue = name_day_ex.values.tolist()\n",
    "\n",
    "index_label = ['1day', '2day', '3day', '4day', '5day', '6day', '7day', '8day', '9day', '10day', '11day', '12day', '13day', '14day', '15day', '16day']\n",
    "\n",
    "totaldata_tp = {'타이핑' : dftvalue}\n",
    "dfttotal = pd.DataFrame(totaldata_tp, index = index_label, columns = ['타이핑'])\n",
    "\n",
    "totaldata_ex = {'정확도' : dfevalue}\n",
    "dfetotal = pd.DataFrame(totaldata_ex, index=index_label, columns = ['정확도'])\n",
    "\n",
    "total = dfttotal.join(dfetotal)\n",
    "\n",
    "print(name + '님의 타이핑 250이상 정확도 100이상 결과 입니다.')\n",
    "\n",
    "total[(total['타이핑'] >= 250) & (total['정확도'] >= 100)]\n"
   ]
  },
  {
   "cell_type": "code",
   "execution_count": null,
   "metadata": {},
   "outputs": [],
   "source": []
  }
 ],
 "metadata": {
  "kernelspec": {
   "display_name": "Python 3",
   "language": "python",
   "name": "python3"
  },
  "language_info": {
   "codemirror_mode": {
    "name": "ipython",
    "version": 3
   },
   "file_extension": ".py",
   "mimetype": "text/x-python",
   "name": "python",
   "nbconvert_exporter": "python",
   "pygments_lexer": "ipython3",
   "version": "3.8.3"
  }
 },
 "nbformat": 4,
 "nbformat_minor": 4
}
