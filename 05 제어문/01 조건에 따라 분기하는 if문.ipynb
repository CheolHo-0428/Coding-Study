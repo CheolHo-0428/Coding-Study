{
 "cells": [
  {
   "cell_type": "markdown",
   "metadata": {},
   "source": [
    "### 단일 조건에 따른 분기(if)"
   ]
  },
  {
   "cell_type": "code",
   "execution_count": 8,
   "metadata": {},
   "outputs": [
    {
     "name": "stdout",
     "output_type": "stream",
     "text": [
      "Pass\n"
     ]
    }
   ],
   "source": [
    "x = 95\n",
    "if x >= 90 :\n",
    "    print(\"Pass\")"
   ]
  },
  {
   "cell_type": "code",
   "execution_count": 9,
   "metadata": {},
   "outputs": [
    {
     "name": "stdout",
     "output_type": "stream",
     "text": [
      "Fail\n"
     ]
    }
   ],
   "source": [
    "x = 80\n",
    "if x >= 90 :\n",
    "    print(\"Pass\")\n",
    "\n",
    "else : \n",
    "    print(\"Fail\")"
   ]
  },
  {
   "cell_type": "markdown",
   "metadata": {},
   "source": [
    "97 ~ 100 : A+\n",
    "93 ~ 96  : A0\n",
    "90 ~ 92  : A-\n",
    "\n",
    "87 ~ 89  : if ~ elif ~ else"
   ]
  },
  {
   "cell_type": "code",
   "execution_count": 13,
   "metadata": {},
   "outputs": [
    {
     "name": "stdout",
     "output_type": "stream",
     "text": [
      "점수를 입력하세요 : 90\n",
      "Very good\n"
     ]
    }
   ],
   "source": [
    "x = int(input('점수를 입력하세요 : '))\n",
    "\n",
    "if x >= 90 :\n",
    "    print(\"Very good\")\n",
    "elif (x >= 80) and (x < 90):\n",
    "    print(\"Good\")\n",
    "else :\n",
    "    print(\"Bad\")"
   ]
  },
  {
   "cell_type": "code",
   "execution_count": 14,
   "metadata": {},
   "outputs": [
    {
     "name": "stdout",
     "output_type": "stream",
     "text": [
      "점수를 입력하세요 : 75\n",
      "Bad\n"
     ]
    }
   ],
   "source": [
    "x = int(input('점수를 입력하세요 : '))\n",
    "\n",
    "if x >= 90 :\n",
    "    print(\"Very good\")\n",
    "elif (80 <= x < 90):\n",
    "    print(\"Good\")\n",
    "else :\n",
    "    print(\"Bad\")"
   ]
  },
  {
   "cell_type": "code",
   "execution_count": 15,
   "metadata": {},
   "outputs": [
    {
     "name": "stdout",
     "output_type": "stream",
     "text": [
      "점수를 입력하세요 : 40\n",
      "우~~~~~~~~\n"
     ]
    }
   ],
   "source": [
    "x = int(input('점수를 입력하세요 : '))\n",
    "\n",
    "if x >= 90 :\n",
    "    if x == 100 :\n",
    "        print('와우!!!!!!!!!!!')\n",
    "    else :\n",
    "        print('오~~~~~~')\n",
    "elif 80 <= x < 90 :\n",
    "    print('흠.........')\n",
    "else :\n",
    "    print('우~~~~~~~~')"
   ]
  },
  {
   "cell_type": "code",
   "execution_count": 17,
   "metadata": {},
   "outputs": [],
   "source": [
    "y = 75\n",
    "if x>= 80 :\n",
    "    pass\n",
    "else :\n",
    "    pass"
   ]
  },
  {
   "cell_type": "code",
   "execution_count": null,
   "metadata": {},
   "outputs": [],
   "source": []
  }
 ],
 "metadata": {
  "kernelspec": {
   "display_name": "Python 3",
   "language": "python",
   "name": "python3"
  },
  "language_info": {
   "codemirror_mode": {
    "name": "ipython",
    "version": 3
   },
   "file_extension": ".py",
   "mimetype": "text/x-python",
   "name": "python",
   "nbconvert_exporter": "python",
   "pygments_lexer": "ipython3",
   "version": "3.8.3"
  }
 },
 "nbformat": 4,
 "nbformat_minor": 4
}
