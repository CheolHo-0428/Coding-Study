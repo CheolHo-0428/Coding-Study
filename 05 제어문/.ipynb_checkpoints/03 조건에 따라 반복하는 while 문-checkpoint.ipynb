{
 "cells": [
  {
   "cell_type": "markdown",
   "metadata": {},
   "source": [
    "#### while 문의 구조"
   ]
  },
  {
   "cell_type": "code",
   "execution_count": 2,
   "metadata": {},
   "outputs": [
    {
     "name": "stdout",
     "output_type": "stream",
     "text": [
      "i sum\n",
      "1 1\n",
      "2 3\n",
      "3 6\n",
      "4 10\n",
      "5 15\n",
      "6 21\n"
     ]
    }
   ],
   "source": [
    "i = 0 #초기화\n",
    "sum = 0 #초기화\n",
    "\n",
    "name = \"\" #초기화 (따옴표안에 문자가 들어온거다!!!)\n",
    "\n",
    "print('i sum') # 문자 표현\n",
    "\n",
    "while (sum < 20): # 조건 검사\n",
    "    i = i + 1 #i는 1씩 증가\n",
    "    sum = sum+ i # 이전의 sum과 현재 i를 더해서 su를 갱신\n",
    "    print(i, sum) # i와 sum을 출력\n",
    "    "
   ]
  },
  {
   "cell_type": "code",
   "execution_count": 3,
   "metadata": {},
   "outputs": [
    {
     "name": "stdout",
     "output_type": "stream",
     "text": [
      "[0, 5, 10, 15]\n",
      "[-10, -8, -6, -4, -2]\n",
      "[3, 0, -3, -6, -9]\n",
      "[]\n"
     ]
    }
   ],
   "source": [
    "print(list(range(0, 20, 5))) # 0, 1, 2, 3, 4, 5 ~ 19  -----> 방향\n",
    "print(list(range(-10, 0 ,2))) # -10, -9, -8, -7, -6 ~ -1 -------> 방향\n",
    "print(list(range(3, -10, -3))) # 3, 2, 1, 0, -1, -2 ~ -9 -------> 방향\n",
    "print(list(range(0, -5, 1))) # 0, -1, -2, -3, -4 ------->방향"
   ]
  },
  {
   "cell_type": "code",
   "execution_count": null,
   "metadata": {},
   "outputs": [],
   "source": []
  }
 ],
 "metadata": {
  "kernelspec": {
   "display_name": "Python 3",
   "language": "python",
   "name": "python3"
  },
  "language_info": {
   "codemirror_mode": {
    "name": "ipython",
    "version": 3
   },
   "file_extension": ".py",
   "mimetype": "text/x-python",
   "name": "python",
   "nbconvert_exporter": "python",
   "pygments_lexer": "ipython3",
   "version": "3.8.3"
  }
 },
 "nbformat": 4,
 "nbformat_minor": 4
}
