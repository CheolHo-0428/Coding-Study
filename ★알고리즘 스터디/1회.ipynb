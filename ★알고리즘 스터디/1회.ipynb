{
 "cells": [
  {
   "cell_type": "code",
   "execution_count": 5,
   "metadata": {},
   "outputs": [
    {
     "name": "stdout",
     "output_type": "stream",
     "text": [
      "[0, 1, 3]\n"
     ]
    }
   ],
   "source": [
    "arr = [1, 1, 3, 3, 0, 1, 1]\n",
    "\n",
    "a =set(arr)\n",
    "\n",
    "b = list(a)\n",
    "\n",
    "print(b)"
   ]
  },
  {
   "cell_type": "code",
   "execution_count": 6,
   "metadata": {},
   "outputs": [],
   "source": [
    "arr = [1, 1, 3, 3, 0, 1, 1]\n",
    "n = 0\n",
    "\n",
    "while (n<len(arr)):\n",
    "    if n == len(arr)-1 :\n",
    "        break\n",
    "    if arr[n] == arr[n+1] :\n",
    "        del arr[n+1]\n",
    "    else :\n",
    "        n = n + 1\n",
    "        \n",
    "        \n",
    "# 같은 숫자는 싫어"
   ]
  },
  {
   "cell_type": "code",
   "execution_count": 7,
   "metadata": {},
   "outputs": [
    {
     "name": "stdout",
     "output_type": "stream",
     "text": [
      "5 3\n",
      "*****\n",
      "*****\n",
      "*****\n",
      "\n"
     ]
    }
   ],
   "source": [
    "a, b = map(int, input().strip().split(' '))\n",
    "answer = (\"\"'*'*a+\"\\n\")*b\n",
    "print(answer)\n",
    "\n",
    "# 직사각형 별 찍기"
   ]
  },
  {
   "cell_type": "code",
   "execution_count": 3,
   "metadata": {},
   "outputs": [
    {
     "name": "stdout",
     "output_type": "stream",
     "text": [
      "결과 : 6\n"
     ]
    }
   ],
   "source": [
    "# 자릿수 더하기\n",
    "\n",
    "def sum_digit(number) :\n",
    "    answer = 0\n",
    "    if int(number) :\n",
    "        for num in list(str(number)) :\n",
    "            answer += int(num)   # answer = answer + int(num)\n",
    "    else :\n",
    "        return 'error'\n",
    "    return answer\n",
    "\n",
    "print('결과 : {}'.format(sum_digit(123)))\n"
   ]
  },
  {
   "cell_type": "code",
   "execution_count": null,
   "metadata": {},
   "outputs": [],
   "source": []
  }
 ],
 "metadata": {
  "kernelspec": {
   "display_name": "Python 3",
   "language": "python",
   "name": "python3"
  },
  "language_info": {
   "codemirror_mode": {
    "name": "ipython",
    "version": 3
   },
   "file_extension": ".py",
   "mimetype": "text/x-python",
   "name": "python",
   "nbconvert_exporter": "python",
   "pygments_lexer": "ipython3",
   "version": "3.8.3"
  }
 },
 "nbformat": 4,
 "nbformat_minor": 4
}
